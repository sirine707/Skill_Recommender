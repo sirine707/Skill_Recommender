{
 "cells": [
  {
   "cell_type": "code",
   "execution_count": 1,
   "metadata": {},
   "outputs": [],
   "source": [
    "import requests\n",
    "from bs4 import BeautifulSoup\n",
    "import pandas as pd\n",
    "import csv\n",
    "import os"
   ]
  },
  {
   "cell_type": "code",
   "execution_count": 2,
   "metadata": {},
   "outputs": [],
   "source": [
    "def get_page_contents(url):\n",
    "    headers = {\n",
    "        'User-Agent': 'Mozilla/5.0 (Windows NT 10.0; Win64; x64) AppleWebKit/537.36 (KHTML, like Gecko) Chrome/107.0.0.0 Safari/537.36'\n",
    "    }\n",
    "\n",
    "    page = requests.get(url, headers=headers)\n",
    "\n",
    "    if page.status_code == 200:\n",
    "        return page.text\n",
    "\n",
    "    return None"
   ]
  },
  {
   "cell_type": "code",
   "execution_count": 3,
   "metadata": {},
   "outputs": [],
   "source": [
    "def get_parcours_MathApp(page_contents):\n",
    "    soup = BeautifulSoup(page_contents, 'html.parser')\n",
    "    structured_content = {}\n",
    "    \n",
    "    # Find the main div containing the sections\n",
    "    parcours_math_div = soup.find('div', id='elementor-tab-content-1301', class_='elementor-tab-content elementor-clearfix')\n",
    "    \n",
    "    if parcours_math_div:\n",
    "        # Find all h3 headings within this div\n",
    "        headings = parcours_math_div.find_all('h3')\n",
    "        \n",
    "        for heading in headings:\n",
    "            key_text = heading.get_text(strip=True)\n",
    "            \n",
    "            # Handle 'Matières par semestre' specially\n",
    "            if key_text == 'Matières par semestre':\n",
    "                semester_content = {}\n",
    "                \n",
    "                for i in range(1, 7):  # Loop through semesters 1 to 6\n",
    "                    semester_heading = heading.find_next(string=f'Semestre {i}')\n",
    "                    \n",
    "                    if semester_heading:\n",
    "                        # Get the <ul> list that follows the semester heading\n",
    "                        materials_list = semester_heading.find_next('ul')\n",
    "                        materials = [li.get_text(strip=True) for li in materials_list.find_all('li')] if materials_list else []\n",
    "                        \n",
    "                        # Add to the dictionary for the current semester\n",
    "                        semester_content[f'Semestre {i}'] = materials\n",
    "                \n",
    "                # Add the gathered semester content to the main dictionary under 'Matières par semestre'\n",
    "                structured_content['Matières par semestre'] = semester_content\n",
    "            \n",
    "            else:\n",
    "                # Collect both <p> and <ul> elements following the heading\n",
    "                values = []\n",
    "                for sibling in heading.find_next_siblings(['p', 'ul'], limit=4):  # Limit to avoid unrelated content\n",
    "                    if sibling.name == 'p':\n",
    "                        values.append(sibling.get_text(strip=True))\n",
    "                    elif sibling.name == 'ul':\n",
    "                        values.extend([li.get_text(strip=True) for li in sibling.find_all('li')])\n",
    "                structured_content[key_text] = values\n",
    "    \n",
    "    return structured_content\n"
   ]
  },
  {
   "cell_type": "code",
   "execution_count": 4,
   "metadata": {},
   "outputs": [],
   "source": [
    "if __name__ == '__main__':\n",
    "    url = 'https://www.esb.tn/programmes/licences/licence-en-mathematiques-appliquees/'\n",
    "    page_contents = get_page_contents(url)\n",
    "    result=[]   #keep result when appending all of the programs for now we will try to use it for csv test file\n",
    "\n",
    "    if page_contents:\n",
    "        result.append(get_parcours_MathApp(page_contents))\n",
    "    else:\n",
    "        print('Failed to get page contents.')"
   ]
  },
  {
   "cell_type": "code",
   "execution_count": 5,
   "metadata": {},
   "outputs": [
    {
     "name": "stdout",
     "output_type": "stream",
     "text": [
      "{'Objectifs': 'Le monde est devenu mathématique. La décision repose sur l’analyse de données de plus en plus massives – Big Data., LaLicence en Mathématiques Appliquées à l’Analyse des Données et à l’Aide à la Décisionfait appel à des outils d’intelligence artificielle et de machine learning et à des compétences et savoir-faire mathématiques et statistiques., Cette licence s’adresse aux bacheliers en mathématiques, informatique, sciences expérimentales, sciences techniques et tout autre diplôme équivalent., MATHÉMATIQUES ET STATISTIQUES :', 'Contenu': 'MATHÉMATIQUES ET STATISTIQUES :, Analyse des données, Optimisation discrète et convexe,Actuariat, Analyse statistique, Régression et modèlesprédictifs, Processus stochastique, INFORMATIQUE DÉCISIONNELLE :, Programmation (Python), Bases de données, DataWarehouse, Data Mining, Big Data, Intelligence Artificielle, Machine Learning', 'Compétences': 'Aider les organisations à créer de la valeur ou à innover dans leurs secteurs respectifs à partir des décisions fondées sur des rigueurs mathématiques et inférer par des techniques statistiques., Maîtriser l’analyse et le traitement des données massives (Big Data)., Maîtriser les langages de programmation dans le domaine de la Data Science., Évaluer la rentabilité et gérer le risque pour les produits ﬁnanciers., Mettre en œuvre les méthodes d’exploration et d’exploitation des données., Organiser et superviser des enquêtes et des sondages., Aider à la transformation digitale des entreprises.', 'Métiers': 'Analyste de Données, Chargé d’Études Actuarielles en Assurances, Front Office Marché Financier, Trader Analyste de Crédit et Risque Bancaire, Data Miner / Data Scientist, Expert en BI, Business Analyst, Statisticien', 'Secteurs d’activité': 'Sociétés de services informatique, Éditeurs de logiciels, Banques et Assurances, Entreprises commerciales, Entreprises industrielles', 'Partenariats professionnels': '> Entreprises de services numériques, > Banques et Assurances, > Sociétés de conseil', 'Semestre 1': 'Algèbre 1, Analyse 1, Base de données, Programmation C, Anglais 1, Atelier programmation R, Séminaire 1', 'Semestre 2': 'Algèbre 2, Analyse 2, Systèmes de gestion de bases de données, Système d’information d’aide à la décision, Anglais 2, Atelier de programmation Python 1, Séminaire 2', 'Semestre 3': 'Algèbre 3, Analyse 3, Intelligence artificielle, Programmation C avancé, Atelier Python 2, Anglais 3, Séminaire 3', 'Semestre 4': 'Recherche opérationnelle, Analyse 4, Introduction Big DATA, Programmation OO, Projet professionnel personnel, Atelier de programmation Python 3, Séminaire 4', 'Semestre 5': 'Probabilités, Calcul différentiel, Mathématiques discrètes, Analyse des données, Gestion de carrière, Atelier Data Science, Séminaire 5'}\n"
     ]
    }
   ],
   "source": [
    "field_names = [\n",
    "    'Objectifs', 'Contenu', 'Compétences', 'Métiers', 'Secteurs d’activité', 'Partenariats professionnels',\n",
    "    'Semestre 1', 'Semestre 2', 'Semestre 3', 'Semestre 4', 'Semestre 5', 'Semestre 6'\n",
    "]\n",
    "\n",
    "# Flatten the data\n",
    "flattened_result = {}\n",
    "for dict in result:\n",
    "    for key, value in dict.items():\n",
    "        if key == 'Matières par semestre':\n",
    "            # Extract each semester as a separate field\n",
    "            for semester, courses in value.items():\n",
    "                flattened_result[semester] = ', '.join(courses)\n",
    "        elif isinstance(value, list):\n",
    "            # Join list items with commas\n",
    "            flattened_result[key] = ', '.join(value)\n",
    "        else:\n",
    "            flattened_result[key] = value\n",
    "print(flattened_result)\n",
    "# Write to CSV\n",
    "with open('./licence.csv', 'a', newline='', encoding='utf-8') as csvfile:\n",
    "    # Check if the file is empty\n",
    "    file_is_empty = os.stat('./licence.csv').st_size == 0\n",
    "\n",
    "    # Create a DictWriter object\n",
    "    writer = csv.DictWriter(csvfile, fieldnames=field_names)\n",
    "    \n",
    "    # Write the header only if the file is empty\n",
    "    if file_is_empty:\n",
    "        writer.writeheader()\n",
    "    \n",
    "    # Write the flattened result as a row\n",
    "    writer.writerow(flattened_result)"
   ]
  },
  {
   "cell_type": "code",
   "execution_count": 6,
   "metadata": {},
   "outputs": [
    {
     "data": {
      "text/plain": [
       "\"import json\\nimport os\\n\\n# Write to JSON\\nfile_path = './licence.json'\\n\\n# Check if the file exists\\nfile_exists = os.path.isfile(file_path)\\n\\n# Read existing data if the file exists\\nif file_exists:\\n    with open(file_path, 'r', encoding='utf-8') as jsonfile:\\n        prev_data = json.load(jsonfile)\\nelse:\\n    prev_data = []\\n\\n# Append the new flattened result\\nprev_data.append(flattened_result)\\nprint(prev_data)\\n# Write the updated data back to the JSON file\\nwith open(file_path, 'w', encoding='utf-8') as jsonfile:\\n    json.dump(prev_data, jsonfile, ensure_ascii=False, indent=4)\""
      ]
     },
     "execution_count": 6,
     "metadata": {},
     "output_type": "execute_result"
    }
   ],
   "source": [
    "'''import json\n",
    "import os\n",
    "\n",
    "# Write to JSON\n",
    "file_path = './licence.json'\n",
    "\n",
    "# Check if the file exists\n",
    "file_exists = os.path.isfile(file_path)\n",
    "\n",
    "# Read existing data if the file exists\n",
    "if file_exists:\n",
    "    with open(file_path, 'r', encoding='utf-8') as jsonfile:\n",
    "        prev_data = json.load(jsonfile)\n",
    "else:\n",
    "    prev_data = []\n",
    "\n",
    "# Append the new flattened result\n",
    "prev_data.append(flattened_result)\n",
    "print(prev_data)\n",
    "# Write the updated data back to the JSON file\n",
    "with open(file_path, 'w', encoding='utf-8') as jsonfile:\n",
    "    json.dump(prev_data, jsonfile, ensure_ascii=False, indent=4)'''"
   ]
  }
 ],
 "metadata": {
  "kernelspec": {
   "display_name": "base",
   "language": "python",
   "name": "python3"
  },
  "language_info": {
   "codemirror_mode": {
    "name": "ipython",
    "version": 3
   },
   "file_extension": ".py",
   "mimetype": "text/x-python",
   "name": "python",
   "nbconvert_exporter": "python",
   "pygments_lexer": "ipython3",
   "version": "3.12.4"
  }
 },
 "nbformat": 4,
 "nbformat_minor": 2
}
