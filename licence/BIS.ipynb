{
 "cells": [
  {
   "cell_type": "code",
   "execution_count": 13,
   "metadata": {},
   "outputs": [],
   "source": [
    "import requests\n",
    "from bs4 import BeautifulSoup\n",
    "import pandas as pd\n",
    "import csv\n",
    "import os"
   ]
  },
  {
   "cell_type": "code",
   "execution_count": 14,
   "metadata": {},
   "outputs": [],
   "source": [
    "# URL du site web\n",
    "url = 'https://www.esb.tn/programmes/licences/licence-en-business-computing/'\n",
    "# Charger le contenu HTML depuis la page web\n",
    "response = requests.get(url)\n",
    "response.raise_for_status()  # Vérifier que la requête s'est bien passée\n",
    "html = response.text\n",
    "soup = BeautifulSoup(html, 'html.parser')"
   ]
  },
  {
   "cell_type": "code",
   "execution_count": 15,
   "metadata": {},
   "outputs": [
    {
     "name": "stdout",
     "output_type": "stream",
     "text": [
      "Objectif : La licence en Business Computing – ParcoursBusiness Intelligencedéveloppe les compétences techniques et les outils BI ainsi que les Soft skills et les compétences managériales. L’objectif est de former des consultants dotés d’une assise théorique et technique solide leur permettant de concevoir, développer et exploiter des applications décisionnelles.Ce parcours est disponible en double diplôme en Systèmes d’Information et Aide à la Décision avec l’Université Claude Bernard Lyon 1.\n"
     ]
    },
    {
     "name": "stderr",
     "output_type": "stream",
     "text": [
      "C:\\Users\\sirine jnayeh\\AppData\\Local\\Temp\\ipykernel_8608\\2828843088.py:2: DeprecationWarning: The 'text' argument to find()-type methods is deprecated. Use 'string' instead.\n",
      "  objectif_section = soup.find('h3', text=\"Objectifs\")\n"
     ]
    }
   ],
   "source": [
    "# Trouver la section \"Objectifs\"\n",
    "objectif_section = soup.find('h3', text=\"Objectifs\")\n",
    "if objectif_section:\n",
    "    objectif_text = objectif_section.find_next('p').get_text(strip=True)\n",
    "    print(\"Objectif :\", objectif_text)\n",
    "\n",
    "   \n",
    "else:\n",
    "    print(\"Objectif non trouvé sur la page.\")"
   ]
  },
  {
   "cell_type": "code",
   "execution_count": 16,
   "metadata": {},
   "outputs": [
    {
     "name": "stdout",
     "output_type": "stream",
     "text": [
      "Contenu trouvé :\n",
      "INFORMATIQUE & BI :\n",
      "Systèmes d’information, Développement informatique, Data Warehouse, Data Mining, Big Data, outils BI, Intelligence Artificielle\n",
      "MANAGEMENT :\n",
      "Entreprenariat, Leadership, Marketing Digital,Développement durable et e-Business\n",
      "SOFT SKILLS :\n",
      "Séminaires, Développement personnel, Langues, etc.\n",
      "PROJET PROFESSIONNEL :\n",
      "Stages, PFE, Projets intégrés, Visites d’entreprises, etc.\n"
     ]
    },
    {
     "name": "stderr",
     "output_type": "stream",
     "text": [
      "C:\\Users\\sirine jnayeh\\AppData\\Local\\Temp\\ipykernel_8608\\1056511966.py:2: DeprecationWarning: The 'text' argument to find()-type methods is deprecated. Use 'string' instead.\n",
      "  contenu_section = soup.find('h3', text=\"Contenu\")\n"
     ]
    }
   ],
   "source": [
    "# Trouver la section \"Contenu\"\n",
    "contenu_section = soup.find('h3', text=\"Contenu\")\n",
    "if contenu_section:\n",
    "    # Extraire les éléments suivants\n",
    "    contenu_list = contenu_section.find_all_next(['ul', 'p'], limit=8)\n",
    "\n",
    "    # Liste pour stocker les données extraites\n",
    "    contenu_data = []\n",
    "\n",
    "    for tag in contenu_list:\n",
    "        contenu_data.append(tag.get_text(strip=True))\n",
    "\n",
    "    # Convertir la liste en une chaîne de texte lisible avec des sauts de ligne\n",
    "    contenu_data = \"\\n\".join(contenu_data)\n",
    "\n",
    "    # Afficher les résultats extraits\n",
    "    print(\"Contenu trouvé :\")\n",
    "    print(contenu_data)\n",
    "\n",
    "else:\n",
    "    print(\"Section 'Contenu' non trouvée sur la page.\")"
   ]
  },
  {
   "cell_type": "code",
   "execution_count": 17,
   "metadata": {},
   "outputs": [
    {
     "name": "stdout",
     "output_type": "stream",
     "text": [
      "Compétences extraites :\n",
      "Maîtriser l’utilisation de l’outil informatique pour la gestion des différents processus métiers au sein d’une entreprise.\n",
      "Piloter la transformation digitale au sein d’une entreprise en fonction des besoins métiers.\n",
      "Gérer et organiser des projets informatiques.\n",
      "Concevoir et développer les solutions informatiques.\n"
     ]
    },
    {
     "name": "stderr",
     "output_type": "stream",
     "text": [
      "C:\\Users\\sirine jnayeh\\AppData\\Local\\Temp\\ipykernel_8608\\3106360097.py:9: DeprecationWarning: The 'text' argument to find()-type methods is deprecated. Use 'string' instead.\n",
      "  competences_section = parcours_bis_content.find('h3', text=\"Compétences\")\n"
     ]
    }
   ],
   "source": [
    " # Trouver le titre du Parcours BIS\n",
    "parcours_bis_section = soup.find('div', id=\"elementor-tab-title-7773\")\n",
    "\n",
    "if parcours_bis_section:\n",
    "    # Trouver le contenu du Parcours BIS dans le div correspondant\n",
    "    parcours_bis_content = parcours_bis_section.find_next('div', id=\"elementor-tab-content-7773\")\n",
    "    \n",
    "    # Trouver la section \"Compétences\" dans ce contenu\n",
    "    competences_section = parcours_bis_content.find('h3', text=\"Compétences\")\n",
    "\n",
    "    if competences_section:\n",
    "        # Trouver le <ul> juste après la section \"Compétences\"\n",
    "        competences_list = competences_section.find_next('ul')\n",
    "\n",
    "        # Liste pour stocker les compétences extraites\n",
    "        competences_data = []\n",
    "\n",
    "        # Récupérer tous les <li> dans cette section\n",
    "        if competences_list:\n",
    "            for li in competences_list.find_all('li'):\n",
    "                competences_data.append(li.get_text(strip=True))\n",
    "\n",
    "        # Convertir la liste des compétences en une chaîne de texte lisible\n",
    "        competences_data = \"\\n\".join(competences_data)\n",
    "\n",
    "        # Vérification : Afficher les compétences extraites\n",
    "        print(\"Compétences extraites :\")\n",
    "        print(competences_data)\n",
    "\n",
    "    else:\n",
    "        print(\"Section 'Compétences' non trouvée dans le Parcours BIS.\")\n",
    "else:\n",
    "    print(\"Le parcours BIS n'a pas été trouvé sur la page.\")"
   ]
  },
  {
   "cell_type": "code",
   "execution_count": 18,
   "metadata": {},
   "outputs": [],
   "source": [
    "def extraire_metiers_BIS(soup):\n",
    "    metiers = []\n",
    "    div_bis = soup.find('div', id='elementor-tab-content-7773')\n",
    "    \n",
    "    if div_bis:\n",
    "        parcours_text = div_bis.get_text()\n",
    "        if \"Business Information Systems\" in parcours_text:\n",
    "            print(\"Parcours Business Information Systems trouvé.\")\n",
    "            master_section = div_bis.find('div', class_='master')\n",
    "            if master_section:\n",
    "                metiers_section = master_section.find('h3', text='Métiers')\n",
    "                if metiers_section:\n",
    "                    print(\"Section 'Métiers' trouvée.\")\n",
    "                    ul_metiers = master_section.find('ul')\n",
    "                    if ul_metiers:\n",
    "                        for li in ul_metiers.find_all('li'):\n",
    "                            metiers.append(li.get_text())\n",
    "                        print(f\"Métiers extraits : {metiers}\")\n",
    "                    else:\n",
    "                        print(\"La balise <ul> pour les métiers est manquante.\")\n",
    "                else:\n",
    "                    print(\"Section 'Métiers' non trouvée.\")\n",
    "            else:\n",
    "                print(\"Section 'Master' non trouvée.\")\n",
    "        else:\n",
    "            print(\"Parcours 'Business Information Systems' non trouvé.\")\n",
    "    else:\n",
    "        print(\"Div avec ID 'elementor-tab-content-7773' non trouvé.\")\n",
    "    \n",
    "    # Retourner les métiers extraits ou un message par défaut\n",
    "    return metiers if metiers else \"Aucune donnée disponible pour les métiers\""
   ]
  },
  {
   "cell_type": "code",
   "execution_count": 19,
   "metadata": {},
   "outputs": [],
   "source": [
    "# Fonction pour extraire les secteurs d'activité du parcours Business Information Systems\n",
    "def extraire_secteurs_activite_BIS(soup):\n",
    "    secteurs = []  # Liste pour stocker les secteurs extraits\n",
    "    div_bis = soup.find('div', id='elementor-tab-content-7773')\n",
    "    \n",
    "    if div_bis:\n",
    "        parcours_text = div_bis.get_text()\n",
    "        if \"Business Information Systems\" in parcours_text:\n",
    "            print(\"Parcours Business Information Systems trouvé.\")\n",
    "            master_section = div_bis.find('div', class_='master')\n",
    "            if master_section:\n",
    "                secteurs_section = master_section.find('h3', text='Secteurs d’activité')\n",
    "                if secteurs_section:\n",
    "                    ul_secteurs = master_section.find_all('ul')[1]  # Secteurs d’activité est le deuxième <ul>\n",
    "                    for li in ul_secteurs.find_all('li'):\n",
    "                        secteurs.append(li.get_text())\n",
    "                    print(f\"Secteurs d’activité extraits : {secteurs}\")\n",
    "                else:\n",
    "                    print(\"Section 'Secteurs d’activité' non trouvée.\")\n",
    "            else:\n",
    "                print(\"Section 'Master' non trouvée.\")\n",
    "        else:\n",
    "            print(\"Parcours 'Business Information Systems' non trouvé.\")\n",
    "    else:\n",
    "        print(\"Div avec ID 'elementor-tab-content-7773' non trouvé.\")\n",
    "    \n",
    "    # Retourner les secteurs extraits ou un message par défaut\n",
    "    return \"\\n\".join(secteurs) if secteurs else \"Aucune donnée disponible pour les secteurs d’activité\""
   ]
  },
  {
   "cell_type": "code",
   "execution_count": 20,
   "metadata": {},
   "outputs": [],
   "source": [
    "# Fonction pour extraire les partenariats professionnels du parcours Business Information Systems\n",
    "def extraire_partenariats_BIS(soup):\n",
    "    partenariats = []  # Liste pour stocker les partenariats extraits\n",
    "    div_bis = soup.find('div', id='elementor-tab-content-7773')\n",
    "    \n",
    "    if div_bis:\n",
    "        parcours_text = div_bis.get_text()\n",
    "        if \"Business Information Systems\" in parcours_text:\n",
    "            print(\"Parcours Business Information Systems trouvé.\")\n",
    "            master_section = div_bis.find('div', class_='master')\n",
    "            if master_section:\n",
    "                partenariats_section = master_section.find('h3', text='Partenariats professionnels')\n",
    "                if partenariats_section:\n",
    "                    stage_section = master_section.find('div', class_='stage')\n",
    "                    if stage_section:\n",
    "                        partenariats_text = stage_section.find_all('p')\n",
    "                        for p in partenariats_text:\n",
    "                            partenariats.append(p.get_text(strip=True))\n",
    "                        print(f\"Partenariats professionnels extraits : {partenariats}\")\n",
    "                    else:\n",
    "                        print(\"Section 'Stage' non trouvée.\")\n",
    "                else:\n",
    "                    print(\"Section 'Partenariats professionnels' non trouvée.\")\n",
    "            else:\n",
    "                print(\"Section 'Master' non trouvée.\")\n",
    "        else:\n",
    "            print(\"Parcours 'Business Information Systems' non trouvé.\")\n",
    "    else:\n",
    "        print(\"Div avec ID 'elementor-tab-content-7773' non trouvé.\")\n",
    "    \n",
    "    # Retourner les partenariats extraits ou un message par défaut\n",
    "    return \"\\n\".join(partenariats) if partenariats else \"Aucune donnée disponible pour les partenariats professionnels\""
   ]
  },
  {
   "cell_type": "code",
   "execution_count": 21,
   "metadata": {},
   "outputs": [],
   "source": [
    "def extraire_et_obtenir_matieres_par_semestre(soup):\n",
    "    \"\"\"\n",
    "    Extrait les semestres et matières pour le parcours 'Business Information Systems' \n",
    "    et retourne un dictionnaire {semestre: matières}.\n",
    "    \"\"\"\n",
    "    matieres_par_semestre = {}\n",
    "    div_bis = soup.find('div', id='elementor-tab-content-7773')\n",
    "    \n",
    "    if div_bis:\n",
    "        parcours_text = div_bis.get_text()\n",
    "        if \"Business Information Systems\" in parcours_text:\n",
    "            print(\"Parcours Business Information Systems trouvé.\")\n",
    "            \n",
    "            # Trouver la section des semestres\n",
    "            accordion = soup.find('div', class_='elementor-accordion')\n",
    "            if accordion:\n",
    "                semestres = accordion.find_all('div', class_='elementor-accordion-item')\n",
    "\n",
    "                # Extraire les matières par semestre\n",
    "                for semestre in semestres:\n",
    "                    semestre_title = semestre.find('a').get_text(strip=True)\n",
    "                    semestre_content = semestre.find('div', class_='elementor-tab-content')\n",
    "                    \n",
    "                    if semestre_content:\n",
    "                        matieres = []\n",
    "                        ul = semestre_content.find('ul')\n",
    "                        if ul:\n",
    "                            for li in ul.find_all('li'):\n",
    "                                matieres.append(li.get_text())\n",
    "                        \n",
    "                        # Ajouter les matières au dictionnaire\n",
    "                        matieres_par_semestre[semestre_title] = \"\\n\".join(matieres)\n",
    "\n",
    "                        print(f\"Les matières du {semestre_title} ont été extraites.\")\n",
    "\n",
    "        else:\n",
    "            print(\"Parcours 'Business Information Systems' non trouvé.\")\n",
    "    else:\n",
    "        print(\"Div avec ID 'elementor-tab-content-7773' non trouvé.\")\n",
    "\n",
    "    return matieres_par_semestre"
   ]
  },
  {
   "cell_type": "code",
   "execution_count": 22,
   "metadata": {},
   "outputs": [
    {
     "name": "stdout",
     "output_type": "stream",
     "text": [
      "Parcours Business Information Systems trouvé."
     ]
    },
    {
     "name": "stderr",
     "output_type": "stream",
     "text": [
      "C:\\Users\\sirine jnayeh\\AppData\\Local\\Temp\\ipykernel_8608\\863812665.py:11: DeprecationWarning: The 'text' argument to find()-type methods is deprecated. Use 'string' instead.\n",
      "  metiers_section = master_section.find('h3', text='Métiers')\n",
      "C:\\Users\\sirine jnayeh\\AppData\\Local\\Temp\\ipykernel_8608\\1201497786.py:12: DeprecationWarning: The 'text' argument to find()-type methods is deprecated. Use 'string' instead.\n",
      "  secteurs_section = master_section.find('h3', text='Secteurs d’activité')\n"
     ]
    },
    {
     "name": "stdout",
     "output_type": "stream",
     "text": [
      "\n",
      "Section 'Métiers' trouvée.\n",
      "Métiers extraits : ['Développeur, Testeur, Concepteur, Architecte Système', 'Responsable du SI Métier', 'Administrateur de Bases de Données', 'Administrateur Système Informatique', 'Consultant Informatique', 'Concepteur de Sites WEB']\n",
      "Parcours Business Information Systems trouvé.\n",
      "Secteurs d’activité extraits : ['Sociétés de services informatique', 'Éditeurs de logiciels', 'Banques & Assurances', 'Entreprises commerciales', 'Entreprises industrielle']\n",
      "Parcours Business Information Systems trouvé.\n",
      "Partenariats professionnels extraits : ['', '>Entreprises de services numériques', '> Banques et Assurances', '> Opérateurs de télécommunication']\n",
      "Parcours Business Information Systems trouvé.\n",
      "Les matières du Semestre 1 ont été extraites.\n",
      "Les matières du Semestre 2 ont été extraites.\n",
      "Les matières du Semestre 3 ont été extraites.\n",
      "Les matières du Semestre 4 ont été extraites.\n",
      "Les matières du Semestre 5 ont été extraites.\n"
     ]
    }
   ],
   "source": [
    "# Extraire les données pour les sections \"Métiers\", \"Secteurs d’activité\", et \"Partenariats professionnels\"\n",
    "metiers = extraire_metiers_BIS(soup)\n",
    "# Assurez-vous que la variable `metiers` est une chaîne de caractères et pas une liste\n",
    "metiers = \" \".join(metiers) if isinstance(metiers, list) else metiers or \"Aucune donnée disponible pour les métiers\"\n",
    "# Supprime les retours à la ligne s'ils existent\n",
    "metiers = metiers.replace('\\n', ' ').strip()\n",
    "\n",
    "secteurs = extraire_secteurs_activite_BIS(soup)\n",
    "secteurs = \" \".join(secteurs) if isinstance(secteurs, list) else secteurs or \"Aucune donnée disponible pour les secteurs d’activité\"\n",
    "secteurs = secteurs.replace('\\n', ' ').strip()  # Enlever les retours à la ligne et les espaces inutiles\n",
    "\n",
    "partenariats = extraire_partenariats_BIS(soup)\n",
    "partenariats = \" \".join(partenariats) if isinstance(partenariats, list) else partenariats or \"Aucune donnée disponible pour les partenariats professionnels\"\n",
    "partenariats = partenariats.replace('\\n', ' ').strip()  # Enlever les retours à la ligne et les espaces inutiles\n",
    "\n",
    "# Dictionnaire des données à enregistrer dans le CSV\n",
    "data = {\n",
    "    'Objectifs': objectif_text,\n",
    "    'Contenu': contenu_data,\n",
    "    'Compétences': competences_data,\n",
    "    'Métiers': metiers,\n",
    "    'Secteurs d’activité': secteurs,\n",
    "    'Partenariats professionnels': partenariats\n",
    "}\n",
    "\n",
    "# Extraire les semestres et matières\n",
    "matieres_par_semestre = extraire_et_obtenir_matieres_par_semestre(soup)\n",
    "\n",
    "# Ajouter les semestres au dictionnaire `data`\n",
    "for semestre, matieres in matieres_par_semestre.items():\n",
    "    data[semestre] = matieres\n",
    "\n",
    "with open('./licence.csv', 'a', newline='', encoding='utf-8') as csvfile:\n",
    "    # Check if the file is empty\n",
    "    file_is_empty = os.stat('./licence.csv').st_size == 0\n",
    "\n",
    "    # Create a DictWriter object\n",
    "    writer = csv.DictWriter(csvfile, fieldnames=data.keys())\n",
    "    \n",
    "    # Write the header only if the file is empty\n",
    "    if file_is_empty:\n",
    "        writer.writeheader()\n",
    "    \n",
    "    # Write the flattened result as a row\n",
    "    writer.writerow(data)"
   ]
  },
  {
   "cell_type": "code",
   "execution_count": 23,
   "metadata": {},
   "outputs": [
    {
     "name": "stdout",
     "output_type": "stream",
     "text": [
      "[{'Objectifs': 'La licence en Science de Gestion – Parcours Managementvise à former des comptables et des professionnels polyvalents dans les domaines de la finance, de la fiscalité, et de l’audit.Ce parcours ouvre aux licenciés des perspectives de poursuite des études, à échelle nationale et internationale, à travers un master professionnel (révision comptable – CCA ou autres) ou de recherche en comptabilité ou en finance.Ce parcours est disponible en double diplôme en Management avec Ascencia Business School., Ce parcours est disponible en double diplôme en Marketing & Communication et en Vente & Négociation avec Ascencia Business School., Ce parcours s’adresse aux étudiants ayant réussi la première année de la licence en Sciences de Gestion., COMPTABILITE FISCALITE FINANCE :, Comptabilité, Fiscalité, Management stratégique, Finance, Audit & Contrôle interne., INFORMATIQUE & OUTILS DIGITAUX :, Système d’Information digital, Développement informatique, logiciels SAGE & SAP-FICO., SOFT SKILLS :, Séminaires, Développement Personnel, Business Games,Langues, etc., PROJET PROFESSIONNEL :, Stages, PFE, Projets intégrés, Visites d’entreprises, Ateliers, Études de cas, etc., Maîtriser les techniques d’élaboration des supports de communication comptables., Établir les déclarations fiscales et sociales légales ainsi que les états financiers., Préparer un rapport complet d’analyse financière d’une entreprise à des fins de gestion et d’aide à la prise de décision., Intervenir en tant que collaborateur dans les missions d’audit financier interne & externe de contrôle de gestion et de conseil comptable et fiscal., Intervenir et évoluer dans un milieu juridique et socioéconomique digitalisé., La licence en Sciences de Gestion – parcours Comptabilité s’organise en 2 semestres de tronc commun et 4 semestres de spécialisation en Sciences Comptables.', 'Contenu': 'COMPTABILITE FISCALITE FINANCE :, Comptabilité, Fiscalité, Management stratégique, Finance, Audit & Contrôle interne., INFORMATIQUE & OUTILS DIGITAUX :, Système d’Information digital, Développement informatique, logiciels SAGE & SAP-FICO., SOFT SKILLS :, Séminaires, Développement Personnel, Business Games,Langues, etc., PROJET PROFESSIONNEL :, Stages, PFE, Projets intégrés, Visites d’entreprises, Ateliers, Études de cas, etc., Maîtriser les techniques d’élaboration des supports de communication comptables., Établir les déclarations fiscales et sociales légales ainsi que les états financiers., Préparer un rapport complet d’analyse financière d’une entreprise à des fins de gestion et d’aide à la prise de décision., Intervenir en tant que collaborateur dans les missions d’audit financier interne & externe de contrôle de gestion et de conseil comptable et fiscal., Intervenir et évoluer dans un milieu juridique et socioéconomique digitalisé., La licence en Sciences de Gestion – parcours Comptabilité s’organise en 2 semestres de tronc commun et 4 semestres de spécialisation en Sciences Comptables.', 'Compétences': 'Maîtriser les techniques d’élaboration des supports de communication comptables., Établir les déclarations fiscales et sociales légales ainsi que les états financiers., Préparer un rapport complet d’analyse financière d’une entreprise à des fins de gestion et d’aide à la prise de décision., Intervenir en tant que collaborateur dans les missions d’audit financier interne & externe de contrôle de gestion et de conseil comptable et fiscal., Intervenir et évoluer dans un milieu juridique et socioéconomique digitalisé., La licence en Sciences de Gestion – parcours Comptabilité s’organise en 2 semestres de tronc commun et 4 semestres de spécialisation en Sciences Comptables.', 'Métiers': 'Comptable, Contrôleur de Gestion, Trésorier ou Financier, Cadre comptable et Financier*, Manager *, (* après une expérience)', 'Secteurs d’activité': 'Cabinets d’expertise comptable, Départements comptables et ﬁnanciers des entreprises publiques ou privées, Banques, Leasing, Assurances', 'Partenariats professionnels': '> Entreprise de services numériques, >Sociétés de conseil, >Entreprises industrielles, > Banques et Assurances', 'Semestre 1': 'Principes de gestion 1, Comptabilité financière 1, Microéconomie, Mathématique 1, Introduction au droit, Mathématiques financières, Anglais 1, Aptitudes en TIC 1', 'Semestre 2': 'Principes de gestion 2, Comptabilité financière 2, Mathématique 2, Statistique descriptive et calculs de probabilité, Macroéconomie, Droit des sociétés commerciales, Anglais 2, Aptitudes en TIC 2', 'Semestre 3': 'Comptabilité intermédiaire I, Comptabilité de gestion, Séminaire métiers, Anglais des affaires I, Culture entrepreneuriale, Droit des affaires, Économie des affaires', 'Semestre 4': 'Comptabilité intermédiaire II, Contrôle interne, TVA et droit de consommation, Méthodologie d’élaboration d’un rapport de stage, Anglais des affaires II, Projet professionnel et personnel, Droit des obligations et des sûretés, Management des projets', 'Semestre 5': 'Comptabilité avancée, Cadre conceptuel et présentation des états financiers, Contrôle de gestion, Élaboration et validation du rapport de stage, Anglais comptable et financier I, Préparation à la vie professionnelle, Management stratégique, Droit d’enregistrement et de timbre', 'Semestre 6': 'Comptabilité internationale : IFRS, Audit, Décisions financières, Projet tutoré, Anglais comptable et financier II, Informatique et système d’information (Préparation à la certification Sage), Economie des TIC, Comptabilité sectorielle'}, {'Objectifs': 'La licence en Science de Gestion – Parcours Managementvise à former des entrepreneurs et des cadres supérieurs en gestion d’entreprises, dans différents domaines, dotés d’outils de management et d’analyse à travers des enseignements interdisciplinaires et de spécialité.Ce parcours est disponible en double diplôme en Marketing & Communication et en Vente & Négociation avec Ascencia Business School, Ce parcours est disponible en double diplôme en Marketing & Communication et en Vente & Négociation avec Ascencia Business School., Ce parcours s’adresse aux étudiants ayant réussi la première année de la licence en sciences de gestion., SCIENCES DE GESTION\\xa0:', 'Contenu': 'SCIENCES DE GESTION\\xa0:, Gestion, Economie, Comptabilité, Finance, Marketing, GRH, RSE, Entrepreneuriat et transformation digitale, etc., MATHÉMATIQUES, STATISTIQUES, INFORMATIQUE\\xa0:, Big Data, Base de données, Analyse de données, Outils & Technologies, Systèmes d’information, TIC, etc.', 'Compétences': 'Analyser les évolutions de l’environnement des affaires., Analyser des données et prendre des décisions., Argumenter et choisir sa stratégie de négociation commerciale., Evaluer des situations complexes et résoudre des problèmes., Gérer un portefeuille clients particuliers ou entreprises., Etre capable de générer de nouvelles idées., Se doter d’un esprit critique., Communiquer de manière efficace., Concilier et gérer les confits., Animer et coordonner l’activité d’une équipe., La licence en sciences de gestion – parcours Management s’organise en 4 semestres de tronc commun et 2 semestres de spécialisation en Management.', 'Métiers': 'Chargé de Clientèle, Chef de Projet, Chef de Produit, Manager e-Business, Office Manager, Assistant Administratif & Commercial, Responsable des Ressources Humaines, Responsable Logistique, Manager de Point de Vente, Conseiller en Organisation d’Entreprise, Consultant en Management Qualité, Gestionnaire de Patrimoine, Business Developer', 'Secteurs d’activité': 'Entreprises de services numériques, Entreprises industrielles, Sociétés de conseil, Agences de communication, Banques & Assurances, Commerce & e-commerce, Télécommunications', 'Partenariats professionnels': '> Agence de communication, > Sociétés de conseil, > Entreprises de commerce et commerce électronique, > Entreprises industrielles', 'Semestre 1': 'Principes de gestion 1, Comptabilité financière 1, Microéconomie, Mathématique 1, Introduction au droit, Mathématiques financières, Anglais 1, Aptitudes en TIC 1, Projet intégré, Séminaire culture générale 1', 'Semestre 2': 'Principes de gestion 2, Comptabilité financière 2, Mathématique 2, Statistique descriptive et calculs de probabilité, Macroéconomie, Droit des sociétés commerciales, Anglais 2, Aptitudes en TIC 2, Projet intégré, Séminaire culture générale 2', 'Semestre 3': 'Fondamentaux en management, Comptabilité de gestion, Fondamentaux en marketing, Séminaire orienté métiers 1, Fiscalité, Statistique inférentielle, Anglais, Culture entrepreneuriale, Projet intégré', 'Semestre 4': 'Fondamentaux de la GRH, Diagnostic financier, Gestion de la production, Méthodologie d’élaboration d’un rapport de stage, Projet professionnel et personnel, Anglais, Développement durable, Introduction au design thinking, Projet intégré, Séminaire orienté métiers 2', 'Semestre 5': 'Théorie des organisations, Analyses quantitatives et qualitatives, Management de projet, Management de la qualité et certification, Elaboration et validation du rapport de stage, Anglais, Préparation à la vie professionnelle, Introduction au Big Data, Droit numérique, Analyse de données et prise de décision, Projet intégré, Séminaire métiers 3', 'Semestre 6': 'Management de l’innovation et entrepreneuriat, Management de la transformation digitale et système d’information, Management stratégique, Controle de gestion, Projet tutoré, Anglais, Progiciel de gestion intégré, Management interculturel, Economie internationale, Séminaire métiers 4'}, {'Objectifs': 'La licence en Business Computing – ParcoursBusiness Intelligencedéveloppe les compétences techniques et les outils BI ainsi que les Soft skills et les compétences managériales. L’objectif est de former des consultants dotés d’une assise théorique et technique solide leur permettant de concevoir, développer et exploiter des applications décisionnelles.Ce parcours est disponible en double diplôme en Systèmes d’Information et Aide à la Décision avec l’Université Claude Bernard Lyon 1.', 'Contenu': 'INFORMATIQUE & BI :\\nSystèmes d’information, Développement informatique, Data Warehouse, Data Mining, Big Data, outils BI, Intelligence Artificielle\\nMANAGEMENT :\\nEntreprenariat, Leadership, Marketing Digital,Développement durable et e-Business\\nSOFT SKILLS\\xa0:\\nSéminaires, Développement personnel, Langues, etc.\\nPROJET PROFESSIONNEL\\xa0:\\nStages, PFE, Projets intégrés, Visites d’entreprises, etc.', 'Compétences': 'Maîtriser l’utilisation de l’outil informatique pour la gestion des différents processus métiers au sein d’une entreprise.\\nPiloter la transformation digitale au sein d’une entreprise en fonction des besoins métiers.\\nGérer et organiser des projets informatiques.\\nConcevoir et développer les solutions informatiques.', 'Métiers': 'Développeur, Testeur, Concepteur, Architecte Système Responsable du SI Métier Administrateur de Bases de Données Administrateur Système Informatique Consultant Informatique Concepteur de Sites WEB', 'Secteurs d’activité': 'Sociétés de services informatique Éditeurs de logiciels Banques & Assurances Entreprises commerciales Entreprises industrielle', 'Partenariats professionnels': '>Entreprises de services numériques > Banques et Assurances > Opérateurs de télécommunication', 'Semestre 1': 'Algorithmique et Structures de Données 1\\nSystèmes d’Exploitation Systèmes Logiques et Architectures des Ordinateurs\\nAnalyse\\nStatistiques et Probabilités\\nPrincipes de Gestion\\nComptabilité générale\\nCompétences Numériques : Excel avancé\\nBusiness Communication 1\\nPrincipes de l’économie\\nTravail Collaboratif\\nInterface Homme Machine\\nSéminaire', 'Semestre 2': 'Algorithmique et Structures de Données 2\\nFondements des réseaux\\nIntroduction aux Systèmes d’Information\\nLogique Mathématique\\nAlgèbre\\nSystèmes d’Information Comptable\\nGestion Financière\\nBusiness Communication 2\\nDéveloppement durable\\nProjet Tuteuré\\nIntroduction à l’informatique décisionnelle\\nMarketing Stratégique', 'Semestre 3': 'Programmation OO\\nProgrammation Web 1\\nConception OO des Systèmes d’Information\\nBases de Données\\nStatistiques Inférentielles\\nFondements de l’IA\\nMarketing Digital\\nEconomie Numérique\\nEthique et Lois des IT\\nProjet Professionnel Personnel (PPP)\\nSocial Media\\nManagement des Projets\\nSéminaire', 'Semestre 4': 'Gestion des Opérations et de la logistique\\nBusiness Process Management\\nFramework .Net\\nProgrammation Web2\\nSGBD & Administration des BDs\\nGouvernance des SI\\nSécurité des SI\\nProblem Solving\\nAnglais\\nProjet Tuteuré métier\\nEntrepreneuriat & Innovation\\nBig Data', 'Semestre 5': 'Intégration des SI\\nERP\\nGénie Logiciel\\nGestion des Projets SI\\nDéveloppement Mobile\\xa0\\nDéveloppement JEE\\nBusiness Intelligence\\xa0\\xa0\\nStratégies d’Affaires électroniques\\xa0\\nProfessional Network Service – gestion de carrière\\nAnglais d’Affaires\\nE-Business\\nE-CRM\\nSéminaire métier'}]\n"
     ]
    }
   ],
   "source": [
    "import json\n",
    "import os\n",
    "\n",
    "# Write to JSON\n",
    "file_path = './licence.json'\n",
    "\n",
    "# Check if the file exists\n",
    "file_exists = os.path.isfile(file_path)\n",
    "\n",
    "# Read existing data if the file exists\n",
    "if file_exists:\n",
    "    with open(file_path, 'r', encoding='utf-8') as jsonfile:\n",
    "        prev_data = json.load(jsonfile)\n",
    "else:\n",
    "    prev_data = []\n",
    "\n",
    "# Append the new flattened result\n",
    "prev_data.append(data)\n",
    "print(prev_data)\n",
    "# Write the updated data back to the JSON file\n",
    "with open(file_path, 'w', encoding='utf-8') as jsonfile:\n",
    "    json.dump(prev_data, jsonfile, ensure_ascii=False, indent=4)"
   ]
  }
 ],
 "metadata": {
  "kernelspec": {
   "display_name": "base",
   "language": "python",
   "name": "python3"
  },
  "language_info": {
   "codemirror_mode": {
    "name": "ipython",
    "version": 3
   },
   "file_extension": ".py",
   "mimetype": "text/x-python",
   "name": "python",
   "nbconvert_exporter": "python",
   "pygments_lexer": "ipython3",
   "version": "3.12.4"
  }
 },
 "nbformat": 4,
 "nbformat_minor": 2
}
