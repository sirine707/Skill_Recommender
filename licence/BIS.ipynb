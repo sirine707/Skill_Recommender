{
 "cells": [
  {
   "cell_type": "code",
   "execution_count": 1,
   "metadata": {},
   "outputs": [],
   "source": [
    "import requests\n",
    "from bs4 import BeautifulSoup\n",
    "import pandas as pd\n",
    "import csv"
   ]
  },
  {
   "cell_type": "code",
   "execution_count": 2,
   "metadata": {},
   "outputs": [],
   "source": [
    "# URL du site web\n",
    "url = 'https://www.esb.tn/programmes/licences/licence-en-business-computing/'\n",
    "# Charger le contenu HTML depuis la page web\n",
    "response = requests.get(url)\n",
    "response.raise_for_status()  # Vérifier que la requête s'est bien passée\n",
    "html = response.text\n",
    "soup = BeautifulSoup(html, 'html.parser')"
   ]
  },
  {
   "cell_type": "code",
   "execution_count": 3,
   "metadata": {},
   "outputs": [
    {
     "name": "stdout",
     "output_type": "stream",
     "text": [
      "Objectif : La licence en Business Computing – ParcoursBusiness Intelligencedéveloppe les compétences techniques et les outils BI ainsi que les Soft skills et les compétences managériales. L’objectif est de former des consultants dotés d’une assise théorique et technique solide leur permettant de concevoir, développer et exploiter des applications décisionnelles.Ce parcours est disponible en double diplôme en Systèmes d’Information et Aide à la Décision avec l’Université Claude Bernard Lyon 1.\n"
     ]
    },
    {
     "name": "stderr",
     "output_type": "stream",
     "text": [
      "C:\\Users\\sirine jnayeh\\AppData\\Local\\Temp\\ipykernel_24308\\2828843088.py:2: DeprecationWarning: The 'text' argument to find()-type methods is deprecated. Use 'string' instead.\n",
      "  objectif_section = soup.find('h3', text=\"Objectifs\")\n"
     ]
    }
   ],
   "source": [
    "# Trouver la section \"Objectifs\"\n",
    "objectif_section = soup.find('h3', text=\"Objectifs\")\n",
    "if objectif_section:\n",
    "    objectif_text = objectif_section.find_next('p').get_text(strip=True)\n",
    "    print(\"Objectif :\", objectif_text)\n",
    "\n",
    "   \n",
    "else:\n",
    "    print(\"Objectif non trouvé sur la page.\")"
   ]
  },
  {
   "cell_type": "code",
   "execution_count": 4,
   "metadata": {},
   "outputs": [
    {
     "name": "stdout",
     "output_type": "stream",
     "text": [
      "Contenu trouvé :\n",
      "INFORMATIQUE & BI :\n",
      "Systèmes d’information, Développement informatique, Data Warehouse, Data Mining, Big Data, outils BI, Intelligence Artificielle\n",
      "MANAGEMENT :\n",
      "Entreprenariat, Leadership, Marketing Digital,Développement durable et e-Business\n",
      "SOFT SKILLS :\n",
      "Séminaires, Développement personnel, Langues, etc.\n",
      "PROJET PROFESSIONNEL :\n",
      "Stages, PFE, Projets intégrés, Visites d’entreprises, etc.\n"
     ]
    },
    {
     "name": "stderr",
     "output_type": "stream",
     "text": [
      "C:\\Users\\sirine jnayeh\\AppData\\Local\\Temp\\ipykernel_24308\\1056511966.py:2: DeprecationWarning: The 'text' argument to find()-type methods is deprecated. Use 'string' instead.\n",
      "  contenu_section = soup.find('h3', text=\"Contenu\")\n"
     ]
    }
   ],
   "source": [
    "# Trouver la section \"Contenu\"\n",
    "contenu_section = soup.find('h3', text=\"Contenu\")\n",
    "if contenu_section:\n",
    "    # Extraire les éléments suivants\n",
    "    contenu_list = contenu_section.find_all_next(['ul', 'p'], limit=8)\n",
    "\n",
    "    # Liste pour stocker les données extraites\n",
    "    contenu_data = []\n",
    "\n",
    "    for tag in contenu_list:\n",
    "        contenu_data.append(tag.get_text(strip=True))\n",
    "\n",
    "    # Convertir la liste en une chaîne de texte lisible avec des sauts de ligne\n",
    "    contenu_data = \"\\n\".join(contenu_data)\n",
    "\n",
    "    # Afficher les résultats extraits\n",
    "    print(\"Contenu trouvé :\")\n",
    "    print(contenu_data)\n",
    "\n",
    "else:\n",
    "    print(\"Section 'Contenu' non trouvée sur la page.\")"
   ]
  },
  {
   "cell_type": "code",
   "execution_count": 5,
   "metadata": {},
   "outputs": [
    {
     "name": "stdout",
     "output_type": "stream",
     "text": [
      "Compétences extraites :\n",
      "Maîtriser l’utilisation de l’outil informatique pour la gestion des différents processus métiers au sein d’une entreprise.\n",
      "Piloter la transformation digitale au sein d’une entreprise en fonction des besoins métiers.\n",
      "Gérer et organiser des projets informatiques.\n",
      "Concevoir et développer les solutions informatiques.\n"
     ]
    },
    {
     "name": "stderr",
     "output_type": "stream",
     "text": [
      "C:\\Users\\sirine jnayeh\\AppData\\Local\\Temp\\ipykernel_24308\\3106360097.py:9: DeprecationWarning: The 'text' argument to find()-type methods is deprecated. Use 'string' instead.\n",
      "  competences_section = parcours_bis_content.find('h3', text=\"Compétences\")\n"
     ]
    }
   ],
   "source": [
    " # Trouver le titre du Parcours BIS\n",
    "parcours_bis_section = soup.find('div', id=\"elementor-tab-title-7773\")\n",
    "\n",
    "if parcours_bis_section:\n",
    "    # Trouver le contenu du Parcours BIS dans le div correspondant\n",
    "    parcours_bis_content = parcours_bis_section.find_next('div', id=\"elementor-tab-content-7773\")\n",
    "    \n",
    "    # Trouver la section \"Compétences\" dans ce contenu\n",
    "    competences_section = parcours_bis_content.find('h3', text=\"Compétences\")\n",
    "\n",
    "    if competences_section:\n",
    "        # Trouver le <ul> juste après la section \"Compétences\"\n",
    "        competences_list = competences_section.find_next('ul')\n",
    "\n",
    "        # Liste pour stocker les compétences extraites\n",
    "        competences_data = []\n",
    "\n",
    "        # Récupérer tous les <li> dans cette section\n",
    "        if competences_list:\n",
    "            for li in competences_list.find_all('li'):\n",
    "                competences_data.append(li.get_text(strip=True))\n",
    "\n",
    "        # Convertir la liste des compétences en une chaîne de texte lisible\n",
    "        competences_data = \"\\n\".join(competences_data)\n",
    "\n",
    "        # Vérification : Afficher les compétences extraites\n",
    "        print(\"Compétences extraites :\")\n",
    "        print(competences_data)\n",
    "\n",
    "    else:\n",
    "        print(\"Section 'Compétences' non trouvée dans le Parcours BIS.\")\n",
    "else:\n",
    "    print(\"Le parcours BIS n'a pas été trouvé sur la page.\")"
   ]
  },
  {
   "cell_type": "code",
   "execution_count": 6,
   "metadata": {},
   "outputs": [],
   "source": [
    "def extraire_metiers_BIS(soup):\n",
    "    metiers = []\n",
    "    div_bis = soup.find('div', id='elementor-tab-content-7773')\n",
    "    \n",
    "    if div_bis:\n",
    "        parcours_text = div_bis.get_text()\n",
    "        if \"Business Information Systems\" in parcours_text:\n",
    "            print(\"Parcours Business Information Systems trouvé.\")\n",
    "            master_section = div_bis.find('div', class_='master')\n",
    "            if master_section:\n",
    "                metiers_section = master_section.find('h3', text='Métiers')\n",
    "                if metiers_section:\n",
    "                    print(\"Section 'Métiers' trouvée.\")\n",
    "                    ul_metiers = master_section.find('ul')\n",
    "                    if ul_metiers:\n",
    "                        for li in ul_metiers.find_all('li'):\n",
    "                            metiers.append(li.get_text())\n",
    "                        print(f\"Métiers extraits : {metiers}\")\n",
    "                    else:\n",
    "                        print(\"La balise <ul> pour les métiers est manquante.\")\n",
    "                else:\n",
    "                    print(\"Section 'Métiers' non trouvée.\")\n",
    "            else:\n",
    "                print(\"Section 'Master' non trouvée.\")\n",
    "        else:\n",
    "            print(\"Parcours 'Business Information Systems' non trouvé.\")\n",
    "    else:\n",
    "        print(\"Div avec ID 'elementor-tab-content-7773' non trouvé.\")\n",
    "    \n",
    "    # Retourner les métiers extraits ou un message par défaut\n",
    "    return metiers if metiers else \"Aucune donnée disponible pour les métiers\""
   ]
  },
  {
   "cell_type": "code",
   "execution_count": 7,
   "metadata": {},
   "outputs": [],
   "source": [
    "# Fonction pour extraire les secteurs d'activité du parcours Business Information Systems\n",
    "def extraire_secteurs_activite_BIS(soup):\n",
    "    secteurs = []  # Liste pour stocker les secteurs extraits\n",
    "    div_bis = soup.find('div', id='elementor-tab-content-7773')\n",
    "    \n",
    "    if div_bis:\n",
    "        parcours_text = div_bis.get_text()\n",
    "        if \"Business Information Systems\" in parcours_text:\n",
    "            print(\"Parcours Business Information Systems trouvé.\")\n",
    "            master_section = div_bis.find('div', class_='master')\n",
    "            if master_section:\n",
    "                secteurs_section = master_section.find('h3', text='Secteurs d’activité')\n",
    "                if secteurs_section:\n",
    "                    ul_secteurs = master_section.find_all('ul')[1]  # Secteurs d’activité est le deuxième <ul>\n",
    "                    for li in ul_secteurs.find_all('li'):\n",
    "                        secteurs.append(li.get_text())\n",
    "                    print(f\"Secteurs d’activité extraits : {secteurs}\")\n",
    "                else:\n",
    "                    print(\"Section 'Secteurs d’activité' non trouvée.\")\n",
    "            else:\n",
    "                print(\"Section 'Master' non trouvée.\")\n",
    "        else:\n",
    "            print(\"Parcours 'Business Information Systems' non trouvé.\")\n",
    "    else:\n",
    "        print(\"Div avec ID 'elementor-tab-content-7773' non trouvé.\")\n",
    "    \n",
    "    # Retourner les secteurs extraits ou un message par défaut\n",
    "    return \"\\n\".join(secteurs) if secteurs else \"Aucune donnée disponible pour les secteurs d’activité\""
   ]
  },
  {
   "cell_type": "code",
   "execution_count": 8,
   "metadata": {},
   "outputs": [],
   "source": [
    "# Fonction pour extraire les partenariats professionnels du parcours Business Information Systems\n",
    "def extraire_partenariats_BIS(soup):\n",
    "    partenariats = []  # Liste pour stocker les partenariats extraits\n",
    "    div_bis = soup.find('div', id='elementor-tab-content-7773')\n",
    "    \n",
    "    if div_bis:\n",
    "        parcours_text = div_bis.get_text()\n",
    "        if \"Business Information Systems\" in parcours_text:\n",
    "            print(\"Parcours Business Information Systems trouvé.\")\n",
    "            master_section = div_bis.find('div', class_='master')\n",
    "            if master_section:\n",
    "                partenariats_section = master_section.find('h3', text='Partenariats professionnels')\n",
    "                if partenariats_section:\n",
    "                    stage_section = master_section.find('div', class_='stage')\n",
    "                    if stage_section:\n",
    "                        partenariats_text = stage_section.find_all('p')\n",
    "                        for p in partenariats_text:\n",
    "                            partenariats.append(p.get_text(strip=True))\n",
    "                        print(f\"Partenariats professionnels extraits : {partenariats}\")\n",
    "                    else:\n",
    "                        print(\"Section 'Stage' non trouvée.\")\n",
    "                else:\n",
    "                    print(\"Section 'Partenariats professionnels' non trouvée.\")\n",
    "            else:\n",
    "                print(\"Section 'Master' non trouvée.\")\n",
    "        else:\n",
    "            print(\"Parcours 'Business Information Systems' non trouvé.\")\n",
    "    else:\n",
    "        print(\"Div avec ID 'elementor-tab-content-7773' non trouvé.\")\n",
    "    \n",
    "    # Retourner les partenariats extraits ou un message par défaut\n",
    "    return \"\\n\".join(partenariats) if partenariats else \"Aucune donnée disponible pour les partenariats professionnels\""
   ]
  },
  {
   "cell_type": "code",
   "execution_count": 9,
   "metadata": {},
   "outputs": [],
   "source": [
    "def extraire_et_obtenir_matieres_par_semestre(soup):\n",
    "    \"\"\"\n",
    "    Extrait les semestres et matières pour le parcours 'Business Information Systems' \n",
    "    et retourne un dictionnaire {semestre: matières}.\n",
    "    \"\"\"\n",
    "    matieres_par_semestre = {}\n",
    "    div_bis = soup.find('div', id='elementor-tab-content-7773')\n",
    "    \n",
    "    if div_bis:\n",
    "        parcours_text = div_bis.get_text()\n",
    "        if \"Business Information Systems\" in parcours_text:\n",
    "            print(\"Parcours Business Information Systems trouvé.\")\n",
    "            \n",
    "            # Trouver la section des semestres\n",
    "            accordion = soup.find('div', class_='elementor-accordion')\n",
    "            if accordion:\n",
    "                semestres = accordion.find_all('div', class_='elementor-accordion-item')\n",
    "\n",
    "                # Extraire les matières par semestre\n",
    "                for semestre in semestres:\n",
    "                    semestre_title = semestre.find('a').get_text(strip=True)\n",
    "                    semestre_content = semestre.find('div', class_='elementor-tab-content')\n",
    "                    \n",
    "                    if semestre_content:\n",
    "                        matieres = []\n",
    "                        ul = semestre_content.find('ul')\n",
    "                        if ul:\n",
    "                            for li in ul.find_all('li'):\n",
    "                                matieres.append(li.get_text())\n",
    "                        \n",
    "                        # Ajouter les matières au dictionnaire\n",
    "                        matieres_par_semestre[semestre_title] = \"\\n\".join(matieres)\n",
    "\n",
    "                        print(f\"Les matières du {semestre_title} ont été extraites.\")\n",
    "\n",
    "        else:\n",
    "            print(\"Parcours 'Business Information Systems' non trouvé.\")\n",
    "    else:\n",
    "        print(\"Div avec ID 'elementor-tab-content-7773' non trouvé.\")\n",
    "\n",
    "    return matieres_par_semestre"
   ]
  },
  {
   "cell_type": "code",
   "execution_count": 10,
   "metadata": {},
   "outputs": [
    {
     "name": "stdout",
     "output_type": "stream",
     "text": [
      "Parcours Business Information Systems trouvé.\n",
      "Section 'Métiers' trouvée.\n",
      "Métiers extraits : ['Développeur, Testeur, Concepteur, Architecte Système', 'Responsable du SI Métier', 'Administrateur de Bases de Données', 'Administrateur Système Informatique', 'Consultant Informatique', 'Concepteur de Sites WEB']\n",
      "Parcours Business Information Systems trouvé.\n",
      "Secteurs d’activité extraits : ['Sociétés de services informatique', 'Éditeurs de logiciels', 'Banques & Assurances', 'Entreprises commerciales', 'Entreprises industrielle']\n",
      "Parcours Business Information Systems trouvé.\n",
      "Partenariats professionnels extraits : ['', '>Entreprises de services numériques', '> Banques et Assurances', '> Opérateurs de télécommunication']\n",
      "Parcours Business Information Systems trouvé.\n",
      "Les matières du Semestre 1 ont été extraites.\n",
      "Les matières du Semestre 2 ont été extraites.\n",
      "Les matières du Semestre 3 ont été extraites.\n",
      "Les matières du Semestre 4 ont été extraites.\n",
      "Les matières du Semestre 5 ont été extraites.\n"
     ]
    },
    {
     "name": "stderr",
     "output_type": "stream",
     "text": [
      "C:\\Users\\sirine jnayeh\\AppData\\Local\\Temp\\ipykernel_24308\\863812665.py:11: DeprecationWarning: The 'text' argument to find()-type methods is deprecated. Use 'string' instead.\n",
      "  metiers_section = master_section.find('h3', text='Métiers')\n",
      "C:\\Users\\sirine jnayeh\\AppData\\Local\\Temp\\ipykernel_24308\\1201497786.py:12: DeprecationWarning: The 'text' argument to find()-type methods is deprecated. Use 'string' instead.\n",
      "  secteurs_section = master_section.find('h3', text='Secteurs d’activité')\n"
     ]
    }
   ],
   "source": [
    "# Extraire les données pour les sections \"Métiers\", \"Secteurs d’activité\", et \"Partenariats professionnels\"\n",
    "metiers = extraire_metiers_BIS(soup)\n",
    "# Assurez-vous que la variable `metiers` est une chaîne de caractères et pas une liste\n",
    "metiers = \" \".join(metiers) if isinstance(metiers, list) else metiers or \"Aucune donnée disponible pour les métiers\"\n",
    "# Supprime les retours à la ligne s'ils existent\n",
    "metiers = metiers.replace('\\n', ' ').strip()\n",
    "\n",
    "secteurs = extraire_secteurs_activite_BIS(soup)\n",
    "secteurs = \" \".join(secteurs) if isinstance(secteurs, list) else secteurs or \"Aucune donnée disponible pour les secteurs d’activité\"\n",
    "secteurs = secteurs.replace('\\n', ' ').strip()  # Enlever les retours à la ligne et les espaces inutiles\n",
    "\n",
    "partenariats = extraire_partenariats_BIS(soup)\n",
    "partenariats = \" \".join(partenariats) if isinstance(partenariats, list) else partenariats or \"Aucune donnée disponible pour les partenariats professionnels\"\n",
    "partenariats = partenariats.replace('\\n', ' ').strip()  # Enlever les retours à la ligne et les espaces inutiles\n",
    "\n",
    "# Dictionnaire des données à enregistrer dans le CSV\n",
    "data = {\n",
    "    'Objectifs': objectif_text,\n",
    "    'Contenu': contenu_data,\n",
    "    'Compétences': competences_data,\n",
    "    'Métiers': metiers,\n",
    "    'Secteurs d’activité': secteurs,\n",
    "    'Partenariats professionnels': partenariats\n",
    "}\n",
    "\n",
    "# Extraire les semestres et matières\n",
    "matieres_par_semestre = extraire_et_obtenir_matieres_par_semestre(soup)\n",
    "\n",
    "# Ajouter les semestres au dictionnaire `data`\n",
    "for semestre, matieres in matieres_par_semestre.items():\n",
    "    data[semestre] = matieres\n",
    "\n",
    "# Écrire dans un fichier CSV\n",
    "with open('./licence.csv', 'w', newline='', encoding='utf-8') as csvfile:\n",
    "    writer = csv.DictWriter(csvfile, fieldnames=data.keys())\n",
    "    writer.writeheader()  # Écrire les en-têtes\n",
    "    writer.writerow(data)  # Écrire les données sur une ligne"
   ]
  }
 ],
 "metadata": {
  "kernelspec": {
   "display_name": "base",
   "language": "python",
   "name": "python3"
  },
  "language_info": {
   "codemirror_mode": {
    "name": "ipython",
    "version": 3
   },
   "file_extension": ".py",
   "mimetype": "text/x-python",
   "name": "python",
   "nbconvert_exporter": "python",
   "pygments_lexer": "ipython3",
   "version": "3.12.4"
  }
 },
 "nbformat": 4,
 "nbformat_minor": 2
}
