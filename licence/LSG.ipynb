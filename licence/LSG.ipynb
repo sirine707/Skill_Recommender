{
 "cells": [
  {
   "cell_type": "code",
   "execution_count": 19,
   "metadata": {},
   "outputs": [],
   "source": [
    "import requests\n",
    "from bs4 import BeautifulSoup\n",
    "import pandas as pd\n",
    "import csv\n",
    "import os"
   ]
  },
  {
   "cell_type": "code",
   "execution_count": 20,
   "metadata": {},
   "outputs": [],
   "source": [
    "def get_page_contents(url):\n",
    "    headers = {\n",
    "        'User-Agent': 'Mozilla/5.0 (Windows NT 10.0; Win64; x64) AppleWebKit/537.36 (KHTML, like Gecko) Chrome/107.0.0.0 Safari/537.36'\n",
    "    }\n",
    "\n",
    "    page = requests.get(url, headers=headers)\n",
    "\n",
    "    if page.status_code == 200:\n",
    "        return page.text\n",
    "\n",
    "    return None"
   ]
  },
  {
   "cell_type": "code",
   "execution_count": 21,
   "metadata": {},
   "outputs": [],
   "source": [
    "def get_parcours_lsg(page_contents):\n",
    "    soup = BeautifulSoup(page_contents, 'html.parser')\n",
    "    structured_content = {}\n",
    "    \n",
    "    # Find the main div containing the sections\n",
    "    parcours_compta_div = soup.find('div', id='elementor-tab-content-7523', class_='elementor-tab-content elementor-clearfix')\n",
    "    \n",
    "    if parcours_compta_div:\n",
    "        # Find all h3 headings within this div\n",
    "        headings = parcours_compta_div.find_all('h3')\n",
    "        \n",
    "        for heading in headings:\n",
    "            key_text = heading.get_text(strip=True)\n",
    "            \n",
    "            # Handle 'Matières par semestre' specially\n",
    "            if key_text == 'Matières par semestre':\n",
    "                semester_content = {}\n",
    "                \n",
    "                for i in range(1, 7):  # Loop through semesters 1 to 6\n",
    "                    semester_heading = heading.find_next(string=f'Semestre {i}')\n",
    "                    \n",
    "                    if semester_heading:\n",
    "                        # Get the <ul> list that follows the semester heading\n",
    "                        materials_list = semester_heading.find_next('ul')\n",
    "                        materials = [li.get_text(strip=True) for li in materials_list.find_all('li')] if materials_list else []\n",
    "                        \n",
    "                        # Add to the dictionary for the current semester\n",
    "                        semester_content[f'Semestre {i}'] = materials\n",
    "                \n",
    "                # Add the gathered semester content to the main dictionary under 'Matières par semestre'\n",
    "                structured_content['Matières par semestre'] = semester_content\n",
    "            \n",
    "            else:\n",
    "                # Collect both <p> and <ul> elements following the heading\n",
    "                values = []\n",
    "                for sibling in heading.find_next_siblings(['p', 'ul'], limit=4):  # Limit to avoid unrelated content\n",
    "                    if sibling.name == 'p':\n",
    "                        values.append(sibling.get_text(strip=True))\n",
    "                    elif sibling.name == 'ul':\n",
    "                        values.extend([li.get_text(strip=True) for li in sibling.find_all('li')])\n",
    "                structured_content[key_text] = values\n",
    "    \n",
    "    return structured_content\n"
   ]
  },
  {
   "cell_type": "code",
   "execution_count": 22,
   "metadata": {},
   "outputs": [],
   "source": [
    "if __name__ == '__main__':\n",
    "    url = 'https://www.esb.tn/programmes/licences/sciences-de-gestion/'\n",
    "    page_contents = get_page_contents(url)\n",
    "    result=[]   #keep result when appending all of the programs for now we will try to use it for csv test file\n",
    "\n",
    "    if page_contents:\n",
    "        result.append(get_parcours_lsg(page_contents))\n",
    "    else:\n",
    "        print('Failed to get page contents.')"
   ]
  },
  {
   "cell_type": "code",
   "execution_count": 23,
   "metadata": {},
   "outputs": [
    {
     "name": "stdout",
     "output_type": "stream",
     "text": [
      "{'Objectifs': 'La licence en Science de Gestion – Parcours Managementvise à former des entrepreneurs et des cadres supérieurs en gestion d’entreprises, dans différents domaines, dotés d’outils de management et d’analyse à travers des enseignements interdisciplinaires et de spécialité.Ce parcours est disponible en double diplôme en Marketing & Communication et en Vente & Négociation avec Ascencia Business School, Ce parcours est disponible en double diplôme en Marketing & Communication et en Vente & Négociation avec Ascencia Business School., Ce parcours s’adresse aux étudiants ayant réussi la première année de la licence en sciences de gestion., SCIENCES DE GESTION\\xa0:', 'Contenu': 'SCIENCES DE GESTION\\xa0:, Gestion, Economie, Comptabilité, Finance, Marketing, GRH, RSE, Entrepreneuriat et transformation digitale, etc., MATHÉMATIQUES, STATISTIQUES, INFORMATIQUE\\xa0:, Big Data, Base de données, Analyse de données, Outils & Technologies, Systèmes d’information, TIC, etc.', 'Compétences': 'Analyser les évolutions de l’environnement des affaires., Analyser des données et prendre des décisions., Argumenter et choisir sa stratégie de négociation commerciale., Evaluer des situations complexes et résoudre des problèmes., Gérer un portefeuille clients particuliers ou entreprises., Etre capable de générer de nouvelles idées., Se doter d’un esprit critique., Communiquer de manière efficace., Concilier et gérer les confits., Animer et coordonner l’activité d’une équipe., La licence en sciences de gestion – parcours Management s’organise en 4 semestres de tronc commun et 2 semestres de spécialisation en Management.', 'Métiers': 'Chargé de Clientèle, Chef de Projet, Chef de Produit, Manager e-Business, Office Manager, Assistant Administratif & Commercial, Responsable des Ressources Humaines, Responsable Logistique, Manager de Point de Vente, Conseiller en Organisation d’Entreprise, Consultant en Management Qualité, Gestionnaire de Patrimoine, Business Developer', 'Secteurs d’activité': 'Entreprises de services numériques, Entreprises industrielles, Sociétés de conseil, Agences de communication, Banques & Assurances, Commerce & e-commerce, Télécommunications', 'Partenariats professionnels': '> Agence de communication, > Sociétés de conseil, > Entreprises de commerce et commerce électronique, > Entreprises industrielles', 'Semestre 1': 'Principes de gestion 1, Comptabilité financière 1, Microéconomie, Mathématique 1, Introduction au droit, Mathématiques financières, Anglais 1, Aptitudes en TIC 1, Projet intégré, Séminaire culture générale 1', 'Semestre 2': 'Principes de gestion 2, Comptabilité financière 2, Mathématique 2, Statistique descriptive et calculs de probabilité, Macroéconomie, Droit des sociétés commerciales, Anglais 2, Aptitudes en TIC 2, Projet intégré, Séminaire culture générale 2', 'Semestre 3': 'Fondamentaux en management, Comptabilité de gestion, Fondamentaux en marketing, Séminaire orienté métiers 1, Fiscalité, Statistique inférentielle, Anglais, Culture entrepreneuriale, Projet intégré', 'Semestre 4': 'Fondamentaux de la GRH, Diagnostic financier, Gestion de la production, Méthodologie d’élaboration d’un rapport de stage, Projet professionnel et personnel, Anglais, Développement durable, Introduction au design thinking, Projet intégré, Séminaire orienté métiers 2', 'Semestre 5': 'Théorie des organisations, Analyses quantitatives et qualitatives, Management de projet, Management de la qualité et certification, Elaboration et validation du rapport de stage, Anglais, Préparation à la vie professionnelle, Introduction au Big Data, Droit numérique, Analyse de données et prise de décision, Projet intégré, Séminaire métiers 3', 'Semestre 6': 'Management de l’innovation et entrepreneuriat, Management de la transformation digitale et système d’information, Management stratégique, Controle de gestion, Projet tutoré, Anglais, Progiciel de gestion intégré, Management interculturel, Economie internationale, Séminaire métiers 4'}\n"
     ]
    }
   ],
   "source": [
    "field_names = [\n",
    "    'Objectifs', 'Contenu', 'Compétences', 'Métiers', 'Secteurs d’activité', 'Partenariats professionnels',\n",
    "    'Semestre 1', 'Semestre 2', 'Semestre 3', 'Semestre 4', 'Semestre 5', 'Semestre 6'\n",
    "]\n",
    "\n",
    "# Flatten the data\n",
    "flattened_result = {}\n",
    "for dict in result:\n",
    "    for key, value in dict.items():\n",
    "        if key == 'Matières par semestre':\n",
    "            # Extract each semester as a separate field\n",
    "            for semester, courses in value.items():\n",
    "                flattened_result[semester] = ', '.join(courses)\n",
    "        elif isinstance(value, list):\n",
    "            # Join list items with commas\n",
    "            flattened_result[key] = ', '.join(value)\n",
    "        else:\n",
    "            flattened_result[key] = value\n",
    "print(flattened_result)\n",
    "# Write to CSV\n",
    "with open('./licence.csv', 'a', newline='', encoding='utf-8') as csvfile:\n",
    "    # Check if the file is empty\n",
    "    file_is_empty = os.stat('./licence.csv').st_size == 0\n",
    "\n",
    "    # Create a DictWriter object\n",
    "    writer = csv.DictWriter(csvfile, fieldnames=field_names)\n",
    "    \n",
    "    # Write the header only if the file is empty\n",
    "    if file_is_empty:\n",
    "        writer.writeheader()\n",
    "    \n",
    "    # Write the flattened result as a row\n",
    "    writer.writerow(flattened_result)"
   ]
  },
  {
   "cell_type": "code",
   "execution_count": 24,
   "metadata": {},
   "outputs": [
    {
     "name": "stdout",
     "output_type": "stream",
     "text": [
      "[{'Objectifs': 'La licence en Science de Gestion – Parcours Managementvise à former des comptables et des professionnels polyvalents dans les domaines de la finance, de la fiscalité, et de l’audit.Ce parcours ouvre aux licenciés des perspectives de poursuite des études, à échelle nationale et internationale, à travers un master professionnel (révision comptable – CCA ou autres) ou de recherche en comptabilité ou en finance.Ce parcours est disponible en double diplôme en Management avec Ascencia Business School., Ce parcours est disponible en double diplôme en Marketing & Communication et en Vente & Négociation avec Ascencia Business School., Ce parcours s’adresse aux étudiants ayant réussi la première année de la licence en Sciences de Gestion., COMPTABILITE FISCALITE FINANCE :, Comptabilité, Fiscalité, Management stratégique, Finance, Audit & Contrôle interne., INFORMATIQUE & OUTILS DIGITAUX :, Système d’Information digital, Développement informatique, logiciels SAGE & SAP-FICO., SOFT SKILLS :, Séminaires, Développement Personnel, Business Games,Langues, etc., PROJET PROFESSIONNEL :, Stages, PFE, Projets intégrés, Visites d’entreprises, Ateliers, Études de cas, etc., Maîtriser les techniques d’élaboration des supports de communication comptables., Établir les déclarations fiscales et sociales légales ainsi que les états financiers., Préparer un rapport complet d’analyse financière d’une entreprise à des fins de gestion et d’aide à la prise de décision., Intervenir en tant que collaborateur dans les missions d’audit financier interne & externe de contrôle de gestion et de conseil comptable et fiscal., Intervenir et évoluer dans un milieu juridique et socioéconomique digitalisé., La licence en Sciences de Gestion – parcours Comptabilité s’organise en 2 semestres de tronc commun et 4 semestres de spécialisation en Sciences Comptables.', 'Contenu': 'COMPTABILITE FISCALITE FINANCE :, Comptabilité, Fiscalité, Management stratégique, Finance, Audit & Contrôle interne., INFORMATIQUE & OUTILS DIGITAUX :, Système d’Information digital, Développement informatique, logiciels SAGE & SAP-FICO., SOFT SKILLS :, Séminaires, Développement Personnel, Business Games,Langues, etc., PROJET PROFESSIONNEL :, Stages, PFE, Projets intégrés, Visites d’entreprises, Ateliers, Études de cas, etc., Maîtriser les techniques d’élaboration des supports de communication comptables., Établir les déclarations fiscales et sociales légales ainsi que les états financiers., Préparer un rapport complet d’analyse financière d’une entreprise à des fins de gestion et d’aide à la prise de décision., Intervenir en tant que collaborateur dans les missions d’audit financier interne & externe de contrôle de gestion et de conseil comptable et fiscal., Intervenir et évoluer dans un milieu juridique et socioéconomique digitalisé., La licence en Sciences de Gestion – parcours Comptabilité s’organise en 2 semestres de tronc commun et 4 semestres de spécialisation en Sciences Comptables.', 'Compétences': 'Maîtriser les techniques d’élaboration des supports de communication comptables., Établir les déclarations fiscales et sociales légales ainsi que les états financiers., Préparer un rapport complet d’analyse financière d’une entreprise à des fins de gestion et d’aide à la prise de décision., Intervenir en tant que collaborateur dans les missions d’audit financier interne & externe de contrôle de gestion et de conseil comptable et fiscal., Intervenir et évoluer dans un milieu juridique et socioéconomique digitalisé., La licence en Sciences de Gestion – parcours Comptabilité s’organise en 2 semestres de tronc commun et 4 semestres de spécialisation en Sciences Comptables.', 'Métiers': 'Comptable, Contrôleur de Gestion, Trésorier ou Financier, Cadre comptable et Financier*, Manager *, (* après une expérience)', 'Secteurs d’activité': 'Cabinets d’expertise comptable, Départements comptables et ﬁnanciers des entreprises publiques ou privées, Banques, Leasing, Assurances', 'Partenariats professionnels': '> Entreprise de services numériques, >Sociétés de conseil, >Entreprises industrielles, > Banques et Assurances', 'Semestre 1': 'Principes de gestion 1, Comptabilité financière 1, Microéconomie, Mathématique 1, Introduction au droit, Mathématiques financières, Anglais 1, Aptitudes en TIC 1', 'Semestre 2': 'Principes de gestion 2, Comptabilité financière 2, Mathématique 2, Statistique descriptive et calculs de probabilité, Macroéconomie, Droit des sociétés commerciales, Anglais 2, Aptitudes en TIC 2', 'Semestre 3': 'Comptabilité intermédiaire I, Comptabilité de gestion, Séminaire métiers, Anglais des affaires I, Culture entrepreneuriale, Droit des affaires, Économie des affaires', 'Semestre 4': 'Comptabilité intermédiaire II, Contrôle interne, TVA et droit de consommation, Méthodologie d’élaboration d’un rapport de stage, Anglais des affaires II, Projet professionnel et personnel, Droit des obligations et des sûretés, Management des projets', 'Semestre 5': 'Comptabilité avancée, Cadre conceptuel et présentation des états financiers, Contrôle de gestion, Élaboration et validation du rapport de stage, Anglais comptable et financier I, Préparation à la vie professionnelle, Management stratégique, Droit d’enregistrement et de timbre', 'Semestre 6': 'Comptabilité internationale : IFRS, Audit, Décisions financières, Projet tutoré, Anglais comptable et financier II, Informatique et système d’information (Préparation à la certification Sage), Economie des TIC, Comptabilité sectorielle'}, {'Objectifs': 'La licence en Science de Gestion – Parcours Managementvise à former des entrepreneurs et des cadres supérieurs en gestion d’entreprises, dans différents domaines, dotés d’outils de management et d’analyse à travers des enseignements interdisciplinaires et de spécialité.Ce parcours est disponible en double diplôme en Marketing & Communication et en Vente & Négociation avec Ascencia Business School, Ce parcours est disponible en double diplôme en Marketing & Communication et en Vente & Négociation avec Ascencia Business School., Ce parcours s’adresse aux étudiants ayant réussi la première année de la licence en sciences de gestion., SCIENCES DE GESTION\\xa0:', 'Contenu': 'SCIENCES DE GESTION\\xa0:, Gestion, Economie, Comptabilité, Finance, Marketing, GRH, RSE, Entrepreneuriat et transformation digitale, etc., MATHÉMATIQUES, STATISTIQUES, INFORMATIQUE\\xa0:, Big Data, Base de données, Analyse de données, Outils & Technologies, Systèmes d’information, TIC, etc.', 'Compétences': 'Analyser les évolutions de l’environnement des affaires., Analyser des données et prendre des décisions., Argumenter et choisir sa stratégie de négociation commerciale., Evaluer des situations complexes et résoudre des problèmes., Gérer un portefeuille clients particuliers ou entreprises., Etre capable de générer de nouvelles idées., Se doter d’un esprit critique., Communiquer de manière efficace., Concilier et gérer les confits., Animer et coordonner l’activité d’une équipe., La licence en sciences de gestion – parcours Management s’organise en 4 semestres de tronc commun et 2 semestres de spécialisation en Management.', 'Métiers': 'Chargé de Clientèle, Chef de Projet, Chef de Produit, Manager e-Business, Office Manager, Assistant Administratif & Commercial, Responsable des Ressources Humaines, Responsable Logistique, Manager de Point de Vente, Conseiller en Organisation d’Entreprise, Consultant en Management Qualité, Gestionnaire de Patrimoine, Business Developer', 'Secteurs d’activité': 'Entreprises de services numériques, Entreprises industrielles, Sociétés de conseil, Agences de communication, Banques & Assurances, Commerce & e-commerce, Télécommunications', 'Partenariats professionnels': '> Agence de communication, > Sociétés de conseil, > Entreprises de commerce et commerce électronique, > Entreprises industrielles', 'Semestre 1': 'Principes de gestion 1, Comptabilité financière 1, Microéconomie, Mathématique 1, Introduction au droit, Mathématiques financières, Anglais 1, Aptitudes en TIC 1, Projet intégré, Séminaire culture générale 1', 'Semestre 2': 'Principes de gestion 2, Comptabilité financière 2, Mathématique 2, Statistique descriptive et calculs de probabilité, Macroéconomie, Droit des sociétés commerciales, Anglais 2, Aptitudes en TIC 2, Projet intégré, Séminaire culture générale 2', 'Semestre 3': 'Fondamentaux en management, Comptabilité de gestion, Fondamentaux en marketing, Séminaire orienté métiers 1, Fiscalité, Statistique inférentielle, Anglais, Culture entrepreneuriale, Projet intégré', 'Semestre 4': 'Fondamentaux de la GRH, Diagnostic financier, Gestion de la production, Méthodologie d’élaboration d’un rapport de stage, Projet professionnel et personnel, Anglais, Développement durable, Introduction au design thinking, Projet intégré, Séminaire orienté métiers 2', 'Semestre 5': 'Théorie des organisations, Analyses quantitatives et qualitatives, Management de projet, Management de la qualité et certification, Elaboration et validation du rapport de stage, Anglais, Préparation à la vie professionnelle, Introduction au Big Data, Droit numérique, Analyse de données et prise de décision, Projet intégré, Séminaire métiers 3', 'Semestre 6': 'Management de l’innovation et entrepreneuriat, Management de la transformation digitale et système d’information, Management stratégique, Controle de gestion, Projet tutoré, Anglais, Progiciel de gestion intégré, Management interculturel, Economie internationale, Séminaire métiers 4'}]\n"
     ]
    }
   ],
   "source": [
    "import json\n",
    "import os\n",
    "\n",
    "# Write to JSON\n",
    "file_path = './licence.json'\n",
    "\n",
    "# Check if the file exists\n",
    "file_exists = os.path.isfile(file_path)\n",
    "\n",
    "# Read existing data if the file exists\n",
    "if file_exists:\n",
    "    with open(file_path, 'r', encoding='utf-8') as jsonfile:\n",
    "        data = json.load(jsonfile)\n",
    "else:\n",
    "    data = []\n",
    "\n",
    "# Append the new flattened result\n",
    "data.append(flattened_result)\n",
    "print(data)\n",
    "# Write the updated data back to the JSON file\n",
    "with open(file_path, 'w', encoding='utf-8') as jsonfile:\n",
    "    json.dump(data, jsonfile, ensure_ascii=False, indent=4)"
   ]
  }
 ],
 "metadata": {
  "kernelspec": {
   "display_name": "base",
   "language": "python",
   "name": "python3"
  },
  "language_info": {
   "codemirror_mode": {
    "name": "ipython",
    "version": 3
   },
   "file_extension": ".py",
   "mimetype": "text/x-python",
   "name": "python",
   "nbconvert_exporter": "python",
   "pygments_lexer": "ipython3",
   "version": "3.12.4"
  }
 },
 "nbformat": 4,
 "nbformat_minor": 2
}
