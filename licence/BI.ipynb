{
 "cells": [
  {
   "cell_type": "code",
   "execution_count": 1,
   "metadata": {},
   "outputs": [],
   "source": [
    "import requests\n",
    "from bs4 import BeautifulSoup\n",
    "import pandas as pd\n",
    "import csv\n",
    "import os\n",
    "import json"
   ]
  },
  {
   "cell_type": "code",
   "execution_count": 2,
   "metadata": {},
   "outputs": [],
   "source": [
    "url = 'https://www.esb.tn/programmes/licences/licence-en-business-computing/'\n",
    "# Charger le contenu HTML depuis la page web\n",
    "response = requests.get(url)\n",
    "response.raise_for_status()  # Vérifier que la requête s'est bien passée\n",
    "html_content = response.text\n",
    "# Parser le contenu avec Beautiful Soup\n",
    "soup = BeautifulSoup(html_content, 'html.parser')"
   ]
  },
  {
   "cell_type": "code",
   "execution_count": 3,
   "metadata": {},
   "outputs": [],
   "source": [
    "# Extraire l'objectif du parcours BI\n",
    "# On recherche les éléments contenant le mot \"BI\" et vérifie le contexte\n",
    "objective_bi = []\n",
    "for element in soup.find_all(string=lambda text: \"BI\" in text if text else False):\n",
    "    parent = element.find_parent()\n",
    "    if parent and 'objectif' in parent.get_text().lower():\n",
    "        # Extraire seulement la phrase contenant l'objectif souhaité\n",
    "        full_text = parent.get_text(strip=True)\n",
    "        target_text = \"L’objectif est de former des consultants dotés d’une assise théorique et technique solide leur permettant de concevoir, développer et exploiter des applications décisionnelles.Ce parcours est disponible en double diplôme en Systèmes d’Information et Aide à la Décision avec l’Université\"\n",
    "        if target_text in full_text:\n",
    "            objective_bi.append(target_text)"
   ]
  },
  {
   "cell_type": "code",
   "execution_count": 4,
   "metadata": {},
   "outputs": [
    {
     "name": "stdout",
     "output_type": "stream",
     "text": [
      "Contenu:\n",
      "INFORMATIQUE & BI :\n",
      "Systèmes d’information, Développement informatique, Data Warehouse, Data Mining, Big Data, outils BI, Intelligence Artificielle\n",
      "MANAGEMENT :\n",
      "Entreprenariat, Leadership, Marketing Digital,Développement durable et e-Business\n",
      "SOFT SKILLS :\n",
      "Séminaires, Développement personnel, Langues, etc.\n",
      "PROJET PROFESSIONNEL :\n",
      "Stages, PFE, Projets intégrés, Visites d’entreprises, etc.\n"
     ]
    },
    {
     "name": "stderr",
     "output_type": "stream",
     "text": [
      "C:\\Users\\sirine jnayeh\\AppData\\Local\\Temp\\ipykernel_2532\\634467679.py:2: DeprecationWarning: The 'text' argument to find()-type methods is deprecated. Use 'string' instead.\n",
      "  contenu_section = soup.find('h3', text=\"Contenu\")\n"
     ]
    }
   ],
   "source": [
    "# Trouver la balise <h3> avec le texte \"Contenu\"\n",
    "contenu_section = soup.find('h3', text=\"Contenu\")\n",
    "\n",
    "# Vérifier si la section a été trouvée\n",
    "if contenu_section:\n",
    "    print(\"Contenu:\")\n",
    "\n",
    "    # Trouver les éléments <ul> et <p> qui suivent directement\n",
    "    content = contenu_section.find_all_next(['ul', 'p'], limit=8)\n",
    "\n",
    "    # Extraire le texte de chaque élément et le stocker dans une liste\n",
    "    content_list = [tag.get_text(strip=True) for tag in content]\n",
    "\n",
    "    # Afficher le contenu extrait (facultatif)\n",
    "    for item in content_list:\n",
    "        print(item)"
   ]
  },
  {
   "cell_type": "code",
   "execution_count": 5,
   "metadata": {},
   "outputs": [
    {
     "name": "stdout",
     "output_type": "stream",
     "text": [
      "Compétences:\n",
      "Concevoir et développer une solution décisionnelle et analytique\n",
      "Maîtriser les systèmes et outils informatiques au sein des organisations.\n",
      "Maîtriser les notions fondamentales des sciences de gestion : Marketing, Entreprenariat, Innovation, Développement durable, etc.\n"
     ]
    },
    {
     "name": "stderr",
     "output_type": "stream",
     "text": [
      "C:\\Users\\sirine jnayeh\\AppData\\Local\\Temp\\ipykernel_2532\\4219568722.py:2: DeprecationWarning: The 'text' argument to find()-type methods is deprecated. Use 'string' instead.\n",
      "  competences_section = soup.find('h3', text=\"Compétences\")\n"
     ]
    }
   ],
   "source": [
    "# Trouver la balise <h3> avec le texte \"Compétences\"\n",
    "competences_section = soup.find('h3', text=\"Compétences\")\n",
    "\n",
    "# Vérifier si la section a été trouvée\n",
    "if competences_section:\n",
    "    print(\"Compétences:\")\n",
    "\n",
    "    # Trouver la balise <ul> qui suit directement le titre \"Compétences\"\n",
    "    competences_list = competences_section.find_next('ul')\n",
    "\n",
    "    # Extraire chaque élément de la liste <li>\n",
    "    competences = [item.get_text(strip=True) for item in competences_list.find_all('li')]\n",
    "\n",
    "    # Afficher les compétences extraites (facultatif)\n",
    "    for competence in competences:\n",
    "        print(competence)"
   ]
  },
  {
   "cell_type": "code",
   "execution_count": 6,
   "metadata": {},
   "outputs": [
    {
     "name": "stdout",
     "output_type": "stream",
     "text": [
      "Métiers:\n",
      "Consultant BI\n",
      "Analyste / Consultant Décisionnel\n",
      "Expert Logiciel (ETL, PowerBI, etc.)\n",
      "Intégrateur d’Applications Décisionnelles\n",
      "Analyste d’Affaires\n"
     ]
    },
    {
     "name": "stderr",
     "output_type": "stream",
     "text": [
      "C:\\Users\\sirine jnayeh\\AppData\\Local\\Temp\\ipykernel_2532\\2591657473.py:2: DeprecationWarning: The 'text' argument to find()-type methods is deprecated. Use 'string' instead.\n",
      "  metiers_section = soup.find('h3', text=\"Métiers\")\n"
     ]
    }
   ],
   "source": [
    "# Extraire la section \"Métiers\"\n",
    "metiers_section = soup.find('h3', text=\"Métiers\")\n",
    "\n",
    "# Vérifier si la section a été trouvée\n",
    "if metiers_section:\n",
    "    print(\"Métiers:\")\n",
    "\n",
    "    # Trouver la balise <ul> qui suit directement le titre \"Métiers\"\n",
    "    metiers_list = metiers_section.find_next('ul')\n",
    "\n",
    "    # Extraire chaque élément de la liste <li>\n",
    "    metiers = [item.get_text(strip=True) for item in metiers_list.find_all('li')]\n",
    "\n",
    "    # Afficher les métiers extraits (facultatif)\n",
    "    for metier in metiers:\n",
    "        print(metier)"
   ]
  },
  {
   "cell_type": "code",
   "execution_count": 7,
   "metadata": {},
   "outputs": [
    {
     "name": "stdout",
     "output_type": "stream",
     "text": [
      "\n",
      "Secteurs d’activité:\n",
      "Sociétés de services informatique\n",
      "Éditeurs de logiciels\n",
      "Banques & Assurances\n",
      "Entreprises commerciales\n",
      "Entreprises industrielles\n"
     ]
    },
    {
     "name": "stderr",
     "output_type": "stream",
     "text": [
      "C:\\Users\\sirine jnayeh\\AppData\\Local\\Temp\\ipykernel_2532\\3740006728.py:2: DeprecationWarning: The 'text' argument to find()-type methods is deprecated. Use 'string' instead.\n",
      "  secteurs_section = soup.find('h3', text=\"Secteurs d’activité\")\n"
     ]
    }
   ],
   "source": [
    "# Extraire la section \"Secteurs d’activité\"\n",
    "secteurs_section = soup.find('h3', text=\"Secteurs d’activité\")\n",
    "\n",
    "# Vérifier si la section a été trouvée\n",
    "if secteurs_section:\n",
    "    print(\"\\nSecteurs d’activité:\")\n",
    "\n",
    "    # Trouver la balise <ul> qui suit directement le titre \"Secteurs d’activité\"\n",
    "    secteurs_list = secteurs_section.find_next('ul')\n",
    "\n",
    "    # Extraire chaque élément de la liste <li>\n",
    "    secteurs = [item.get_text(strip=True) for item in secteurs_list.find_all('li')]\n",
    "\n",
    "    # Afficher les secteurs extraits (facultatif)\n",
    "    for secteur in secteurs:\n",
    "        print(secteur)"
   ]
  },
  {
   "cell_type": "code",
   "execution_count": 8,
   "metadata": {},
   "outputs": [
    {
     "name": "stdout",
     "output_type": "stream",
     "text": [
      "\n",
      "Partenariats professionnels:\n",
      "\n",
      ">Entreprises de services numériques\n",
      "> Banques et Assurances\n",
      "> Opérateurs de télécommunication\n"
     ]
    },
    {
     "name": "stderr",
     "output_type": "stream",
     "text": [
      "C:\\Users\\sirine jnayeh\\AppData\\Local\\Temp\\ipykernel_2532\\963747641.py:2: DeprecationWarning: The 'text' argument to find()-type methods is deprecated. Use 'string' instead.\n",
      "  partenariats_section = soup.find('h3', text=\"Partenariats professionnels\")\n"
     ]
    }
   ],
   "source": [
    "# Extraire la section \"Partenariats professionnels\"\n",
    "partenariats_section = soup.find('h3', text=\"Partenariats professionnels\")\n",
    "\n",
    "# Vérifier si la section a été trouvée\n",
    "if partenariats_section:\n",
    "    print(\"\\nPartenariats professionnels:\")\n",
    "\n",
    "    # Trouver la balise <div> contenant les informations de partenariat et extraire les <p> tags\n",
    "    partenariats_paragraphs = partenariats_section.find_next('div', class_=\"stage\").find_all('p')\n",
    "\n",
    "    # Extraire le texte de chaque paragraphe\n",
    "    partenariats = [para.get_text(strip=True) for para in partenariats_paragraphs]\n",
    "\n",
    "    # Afficher les partenariats extraits (facultatif)\n",
    "    for partenariat in partenariats:\n",
    "        print(partenariat)"
   ]
  },
  {
   "cell_type": "code",
   "execution_count": 9,
   "metadata": {},
   "outputs": [
    {
     "name": "stdout",
     "output_type": "stream",
     "text": [
      "\n",
      "Semestre 1:\n",
      "Algorithmique et Structures de Données 1\n",
      "Systèmes d’Exploitation Systèmes Logiques et Architectures des Ordinateurs\n",
      "Analyse\n",
      "Statistiques et Probabilités\n",
      "Principes de Gestion\n",
      "Comptabilité générale\n",
      "Compétences Numériques : Excel avancé\n",
      "Business Communication 1\n",
      "Principes de l’économie\n",
      "Travail Collaboratif\n",
      "Interface Homme Machine\n",
      "Séminaire\n",
      "\n",
      "Semestre 2:\n",
      "Algorithmique et Structures de Données 2\n",
      "Fondements des réseaux\n",
      "Introduction aux Systèmes d’Information\n",
      "Logique Mathématique\n",
      "Algèbre\n",
      "Systèmes d’Information Comptable\n",
      "Gestion Financière\n",
      "Business Communication 2\n",
      "Développement durable\n",
      "Projet Tuteuré\n",
      "Introduction à l’informatique décisionnelle\n",
      "Marketing Stratégique\n",
      "\n",
      "Semestre 3:\n",
      "Programmation OO\n",
      "Programmation Web 1\n",
      "Conception OO des Systèmes d’Information\n",
      "Bases de Données\n",
      "Statistiques Inférentielles\n",
      "Fondements de l’IA\n",
      "Marketing Digital\n",
      "Economie Numérique\n",
      "Ethique et Lois des IT\n",
      "Projet Professionnel Personnel (PPP)\n",
      "Social Media\n",
      "Management des Projets\n",
      "Séminaire\n",
      "\n",
      "Semestre 4:\n",
      "Gestion des Opérations et de la logistique\n",
      "Business Process Management\n",
      "Framework .Net\n",
      "Programmation Web2\n",
      "SGBD & Administration des BDs\n",
      "Gouvernance des SI\n",
      "Sécurité des SI\n",
      "Problem Solving\n",
      "Anglais\n",
      "Projet Tuteuré métier\n",
      "Entrepreneuriat & Innovation\n",
      "Big Data\n",
      "\n",
      "Semestre 5:\n",
      "Intégration des SI\n",
      "ERP\n",
      "Génie Logiciel\n",
      "Gestion des Projets SI\n",
      "Développement Mobile\n",
      "Développement JEE\n",
      "Business Intelligence\n",
      "Stratégies d’Affaires électroniques\n",
      "Professional Network Service – gestion de carrière\n",
      "Anglais d’Affaires\n",
      "E-Business\n",
      "E-CRM\n",
      "Séminaire métier\n"
     ]
    }
   ],
   "source": [
    "# Définir les IDs des semestres à cibler\n",
    "semester_ids = [\n",
    "    \"elementor-tab-content-4181\",  # Semestre 1\n",
    "    \"elementor-tab-content-4182\",  # Semestre 2\n",
    "    \"elementor-tab-content-4183\",  # Semestre 3\n",
    "    \"elementor-tab-content-4184\",  # Semestre 4\n",
    "    \"elementor-tab-content-4185\",  # Semestre 5\n",
    "]\n",
    "\n",
    "# Liste pour stocker les matières et leur semestre\n",
    "semesters_data = []\n",
    "\n",
    "# Parcourir chaque semestre et extraire les matières\n",
    "for semester_id in semester_ids:\n",
    "    semestre = soup.find('div', id=semester_id)\n",
    "    if semestre:\n",
    "        subjects_list = semestre.find_all('li')\n",
    "        semester_name = semestre.find_previous('a').get_text(strip=True)  # Extraire le nom du semestre\n",
    "        print(f\"\\n{semester_name}:\")\n",
    "        \n",
    "        # Extraire chaque matière et l'ajouter à la liste avec le nom du semestre\n",
    "        for item in subjects_list:\n",
    "            subject = item.get_text(strip=True)\n",
    "            semesters_data.append({'Semestre': semester_name, 'Matière': subject})\n",
    "            print(subject)"
   ]
  },
  {
   "cell_type": "code",
   "execution_count": 10,
   "metadata": {},
   "outputs": [],
   "source": [
    "# Fonction pour convertir les listes en une seule chaîne de texte\n",
    "def convertir_liste_en_texte(liste):\n",
    "    return \"\\n\".join([str(item) for item in liste]) if liste else \"\"\n",
    "\n",
    "# Créer un dictionnaire contenant toutes les données générales\n",
    "data = {\n",
    "    'Objectifs': convertir_liste_en_texte(objective_bi),\n",
    "    'Contenu': convertir_liste_en_texte(content_list),\n",
    "    'Compétences': convertir_liste_en_texte(competences),\n",
    "    'Métiers': convertir_liste_en_texte(metiers),\n",
    "    'Secteurs d’activité': convertir_liste_en_texte(secteurs),\n",
    "    'Partenariats professionnels': convertir_liste_en_texte(partenariats),\n",
    "}\n",
    "\n",
    "# Ajouter les semestres et matières au dictionnaire\n",
    "# On regroupe les matières par nom de semestre\n",
    "semesters_dict = {}\n",
    "for entry in semesters_data:\n",
    "    semestre = entry['Semestre']\n",
    "    matiere = entry['Matière']\n",
    "    if semestre not in semesters_dict:\n",
    "        semesters_dict[semestre] = []\n",
    "    semesters_dict[semestre].append(matiere)\n",
    "\n",
    "# Ajouter les semestres au dictionnaire principal\n",
    "for semestre, matieres in semesters_dict.items():\n",
    "    data[semestre] = convertir_liste_en_texte(matieres)\n",
    "\n"
   ]
  },
  {
   "cell_type": "code",
   "execution_count": 11,
   "metadata": {},
   "outputs": [],
   "source": [
    "# Écrire dans un fichier CSV\n",
    "with open('./licence.csv', 'a', newline='', encoding='utf-8') as csvfile:\n",
    "    # Check if the file is empty\n",
    "    file_is_empty = os.stat('./licence.csv').st_size == 0\n",
    "\n",
    "    # Create a DictWriter object\n",
    "    writer = csv.DictWriter(csvfile, fieldnames=data.keys())\n",
    "    \n",
    "    # Write the header only if the file is empty\n",
    "    if file_is_empty:\n",
    "        writer.writeheader()\n",
    "    \n",
    "    # Write the flattened result as a row\n",
    "    writer.writerow(data)"
   ]
  },
  {
   "cell_type": "code",
   "execution_count": 12,
   "metadata": {},
   "outputs": [
    {
     "name": "stdout",
     "output_type": "stream",
     "text": [
      "[{'Objectifs': 'La licence en Science de Gestion – Parcours Managementvise à former des comptables et des professionnels polyvalents dans les domaines de la finance, de la fiscalité, et de l’audit.Ce parcours ouvre aux licenciés des perspectives de poursuite des études, à échelle nationale et internationale, à travers un master professionnel (révision comptable – CCA ou autres) ou de recherche en comptabilité ou en finance.Ce parcours est disponible en double diplôme en Management avec Ascencia Business School., Ce parcours est disponible en double diplôme en Marketing & Communication et en Vente & Négociation avec Ascencia Business School., Ce parcours s’adresse aux étudiants ayant réussi la première année de la licence en Sciences de Gestion., COMPTABILITE FISCALITE FINANCE :, Comptabilité, Fiscalité, Management stratégique, Finance, Audit & Contrôle interne., INFORMATIQUE & OUTILS DIGITAUX :, Système d’Information digital, Développement informatique, logiciels SAGE & SAP-FICO., SOFT SKILLS :, Séminaires, Développement Personnel, Business Games,Langues, etc., PROJET PROFESSIONNEL :, Stages, PFE, Projets intégrés, Visites d’entreprises, Ateliers, Études de cas, etc., Maîtriser les techniques d’élaboration des supports de communication comptables., Établir les déclarations fiscales et sociales légales ainsi que les états financiers., Préparer un rapport complet d’analyse financière d’une entreprise à des fins de gestion et d’aide à la prise de décision., Intervenir en tant que collaborateur dans les missions d’audit financier interne & externe de contrôle de gestion et de conseil comptable et fiscal., Intervenir et évoluer dans un milieu juridique et socioéconomique digitalisé., La licence en Sciences de Gestion – parcours Comptabilité s’organise en 2 semestres de tronc commun et 4 semestres de spécialisation en Sciences Comptables.', 'Contenu': 'COMPTABILITE FISCALITE FINANCE :, Comptabilité, Fiscalité, Management stratégique, Finance, Audit & Contrôle interne., INFORMATIQUE & OUTILS DIGITAUX :, Système d’Information digital, Développement informatique, logiciels SAGE & SAP-FICO., SOFT SKILLS :, Séminaires, Développement Personnel, Business Games,Langues, etc., PROJET PROFESSIONNEL :, Stages, PFE, Projets intégrés, Visites d’entreprises, Ateliers, Études de cas, etc., Maîtriser les techniques d’élaboration des supports de communication comptables., Établir les déclarations fiscales et sociales légales ainsi que les états financiers., Préparer un rapport complet d’analyse financière d’une entreprise à des fins de gestion et d’aide à la prise de décision., Intervenir en tant que collaborateur dans les missions d’audit financier interne & externe de contrôle de gestion et de conseil comptable et fiscal., Intervenir et évoluer dans un milieu juridique et socioéconomique digitalisé., La licence en Sciences de Gestion – parcours Comptabilité s’organise en 2 semestres de tronc commun et 4 semestres de spécialisation en Sciences Comptables.', 'Compétences': 'Maîtriser les techniques d’élaboration des supports de communication comptables., Établir les déclarations fiscales et sociales légales ainsi que les états financiers., Préparer un rapport complet d’analyse financière d’une entreprise à des fins de gestion et d’aide à la prise de décision., Intervenir en tant que collaborateur dans les missions d’audit financier interne & externe de contrôle de gestion et de conseil comptable et fiscal., Intervenir et évoluer dans un milieu juridique et socioéconomique digitalisé., La licence en Sciences de Gestion – parcours Comptabilité s’organise en 2 semestres de tronc commun et 4 semestres de spécialisation en Sciences Comptables.', 'Métiers': 'Comptable, Contrôleur de Gestion, Trésorier ou Financier, Cadre comptable et Financier*, Manager *, (* après une expérience)', 'Secteurs d’activité': 'Cabinets d’expertise comptable, Départements comptables et ﬁnanciers des entreprises publiques ou privées, Banques, Leasing, Assurances', 'Partenariats professionnels': '> Entreprise de services numériques, >Sociétés de conseil, >Entreprises industrielles, > Banques et Assurances', 'Semestre 1': 'Principes de gestion 1, Comptabilité financière 1, Microéconomie, Mathématique 1, Introduction au droit, Mathématiques financières, Anglais 1, Aptitudes en TIC 1', 'Semestre 2': 'Principes de gestion 2, Comptabilité financière 2, Mathématique 2, Statistique descriptive et calculs de probabilité, Macroéconomie, Droit des sociétés commerciales, Anglais 2, Aptitudes en TIC 2', 'Semestre 3': 'Comptabilité intermédiaire I, Comptabilité de gestion, Séminaire métiers, Anglais des affaires I, Culture entrepreneuriale, Droit des affaires, Économie des affaires', 'Semestre 4': 'Comptabilité intermédiaire II, Contrôle interne, TVA et droit de consommation, Méthodologie d’élaboration d’un rapport de stage, Anglais des affaires II, Projet professionnel et personnel, Droit des obligations et des sûretés, Management des projets', 'Semestre 5': 'Comptabilité avancée, Cadre conceptuel et présentation des états financiers, Contrôle de gestion, Élaboration et validation du rapport de stage, Anglais comptable et financier I, Préparation à la vie professionnelle, Management stratégique, Droit d’enregistrement et de timbre', 'Semestre 6': 'Comptabilité internationale : IFRS, Audit, Décisions financières, Projet tutoré, Anglais comptable et financier II, Informatique et système d’information (Préparation à la certification Sage), Economie des TIC, Comptabilité sectorielle'}, {'Objectifs': 'La licence en Science de Gestion – Parcours Managementvise à former des entrepreneurs et des cadres supérieurs en gestion d’entreprises, dans différents domaines, dotés d’outils de management et d’analyse à travers des enseignements interdisciplinaires et de spécialité.Ce parcours est disponible en double diplôme en Marketing & Communication et en Vente & Négociation avec Ascencia Business School, Ce parcours est disponible en double diplôme en Marketing & Communication et en Vente & Négociation avec Ascencia Business School., Ce parcours s’adresse aux étudiants ayant réussi la première année de la licence en sciences de gestion., SCIENCES DE GESTION\\xa0:', 'Contenu': 'SCIENCES DE GESTION\\xa0:, Gestion, Economie, Comptabilité, Finance, Marketing, GRH, RSE, Entrepreneuriat et transformation digitale, etc., MATHÉMATIQUES, STATISTIQUES, INFORMATIQUE\\xa0:, Big Data, Base de données, Analyse de données, Outils & Technologies, Systèmes d’information, TIC, etc.', 'Compétences': 'Analyser les évolutions de l’environnement des affaires., Analyser des données et prendre des décisions., Argumenter et choisir sa stratégie de négociation commerciale., Evaluer des situations complexes et résoudre des problèmes., Gérer un portefeuille clients particuliers ou entreprises., Etre capable de générer de nouvelles idées., Se doter d’un esprit critique., Communiquer de manière efficace., Concilier et gérer les confits., Animer et coordonner l’activité d’une équipe., La licence en sciences de gestion – parcours Management s’organise en 4 semestres de tronc commun et 2 semestres de spécialisation en Management.', 'Métiers': 'Chargé de Clientèle, Chef de Projet, Chef de Produit, Manager e-Business, Office Manager, Assistant Administratif & Commercial, Responsable des Ressources Humaines, Responsable Logistique, Manager de Point de Vente, Conseiller en Organisation d’Entreprise, Consultant en Management Qualité, Gestionnaire de Patrimoine, Business Developer', 'Secteurs d’activité': 'Entreprises de services numériques, Entreprises industrielles, Sociétés de conseil, Agences de communication, Banques & Assurances, Commerce & e-commerce, Télécommunications', 'Partenariats professionnels': '> Agence de communication, > Sociétés de conseil, > Entreprises de commerce et commerce électronique, > Entreprises industrielles', 'Semestre 1': 'Principes de gestion 1, Comptabilité financière 1, Microéconomie, Mathématique 1, Introduction au droit, Mathématiques financières, Anglais 1, Aptitudes en TIC 1, Projet intégré, Séminaire culture générale 1', 'Semestre 2': 'Principes de gestion 2, Comptabilité financière 2, Mathématique 2, Statistique descriptive et calculs de probabilité, Macroéconomie, Droit des sociétés commerciales, Anglais 2, Aptitudes en TIC 2, Projet intégré, Séminaire culture générale 2', 'Semestre 3': 'Fondamentaux en management, Comptabilité de gestion, Fondamentaux en marketing, Séminaire orienté métiers 1, Fiscalité, Statistique inférentielle, Anglais, Culture entrepreneuriale, Projet intégré', 'Semestre 4': 'Fondamentaux de la GRH, Diagnostic financier, Gestion de la production, Méthodologie d’élaboration d’un rapport de stage, Projet professionnel et personnel, Anglais, Développement durable, Introduction au design thinking, Projet intégré, Séminaire orienté métiers 2', 'Semestre 5': 'Théorie des organisations, Analyses quantitatives et qualitatives, Management de projet, Management de la qualité et certification, Elaboration et validation du rapport de stage, Anglais, Préparation à la vie professionnelle, Introduction au Big Data, Droit numérique, Analyse de données et prise de décision, Projet intégré, Séminaire métiers 3', 'Semestre 6': 'Management de l’innovation et entrepreneuriat, Management de la transformation digitale et système d’information, Management stratégique, Controle de gestion, Projet tutoré, Anglais, Progiciel de gestion intégré, Management interculturel, Economie internationale, Séminaire métiers 4'}, {'Objectifs': 'La licence en Business Computing – ParcoursBusiness Intelligencedéveloppe les compétences techniques et les outils BI ainsi que les Soft skills et les compétences managériales. L’objectif est de former des consultants dotés d’une assise théorique et technique solide leur permettant de concevoir, développer et exploiter des applications décisionnelles.Ce parcours est disponible en double diplôme en Systèmes d’Information et Aide à la Décision avec l’Université Claude Bernard Lyon 1.', 'Contenu': 'INFORMATIQUE & BI :\\nSystèmes d’information, Développement informatique, Data Warehouse, Data Mining, Big Data, outils BI, Intelligence Artificielle\\nMANAGEMENT :\\nEntreprenariat, Leadership, Marketing Digital,Développement durable et e-Business\\nSOFT SKILLS\\xa0:\\nSéminaires, Développement personnel, Langues, etc.\\nPROJET PROFESSIONNEL\\xa0:\\nStages, PFE, Projets intégrés, Visites d’entreprises, etc.', 'Compétences': 'Maîtriser l’utilisation de l’outil informatique pour la gestion des différents processus métiers au sein d’une entreprise.\\nPiloter la transformation digitale au sein d’une entreprise en fonction des besoins métiers.\\nGérer et organiser des projets informatiques.\\nConcevoir et développer les solutions informatiques.', 'Métiers': 'Développeur, Testeur, Concepteur, Architecte Système Responsable du SI Métier Administrateur de Bases de Données Administrateur Système Informatique Consultant Informatique Concepteur de Sites WEB', 'Secteurs d’activité': 'Sociétés de services informatique Éditeurs de logiciels Banques & Assurances Entreprises commerciales Entreprises industrielle', 'Partenariats professionnels': '>Entreprises de services numériques > Banques et Assurances > Opérateurs de télécommunication', 'Semestre 1': 'Algorithmique et Structures de Données 1\\nSystèmes d’Exploitation Systèmes Logiques et Architectures des Ordinateurs\\nAnalyse\\nStatistiques et Probabilités\\nPrincipes de Gestion\\nComptabilité générale\\nCompétences Numériques : Excel avancé\\nBusiness Communication 1\\nPrincipes de l’économie\\nTravail Collaboratif\\nInterface Homme Machine\\nSéminaire', 'Semestre 2': 'Algorithmique et Structures de Données 2\\nFondements des réseaux\\nIntroduction aux Systèmes d’Information\\nLogique Mathématique\\nAlgèbre\\nSystèmes d’Information Comptable\\nGestion Financière\\nBusiness Communication 2\\nDéveloppement durable\\nProjet Tuteuré\\nIntroduction à l’informatique décisionnelle\\nMarketing Stratégique', 'Semestre 3': 'Programmation OO\\nProgrammation Web 1\\nConception OO des Systèmes d’Information\\nBases de Données\\nStatistiques Inférentielles\\nFondements de l’IA\\nMarketing Digital\\nEconomie Numérique\\nEthique et Lois des IT\\nProjet Professionnel Personnel (PPP)\\nSocial Media\\nManagement des Projets\\nSéminaire', 'Semestre 4': 'Gestion des Opérations et de la logistique\\nBusiness Process Management\\nFramework .Net\\nProgrammation Web2\\nSGBD & Administration des BDs\\nGouvernance des SI\\nSécurité des SI\\nProblem Solving\\nAnglais\\nProjet Tuteuré métier\\nEntrepreneuriat & Innovation\\nBig Data', 'Semestre 5': 'Intégration des SI\\nERP\\nGénie Logiciel\\nGestion des Projets SI\\nDéveloppement Mobile\\xa0\\nDéveloppement JEE\\nBusiness Intelligence\\xa0\\xa0\\nStratégies d’Affaires électroniques\\xa0\\nProfessional Network Service – gestion de carrière\\nAnglais d’Affaires\\nE-Business\\nE-CRM\\nSéminaire métier'}, {'Objectifs': 'L’objectif est de former des consultants dotés d’une assise théorique et technique solide leur permettant de concevoir, développer et exploiter des applications décisionnelles.Ce parcours est disponible en double diplôme en Systèmes d’Information et Aide à la Décision avec l’Université', 'Contenu': 'INFORMATIQUE & BI :\\nSystèmes d’information, Développement informatique, Data Warehouse, Data Mining, Big Data, outils BI, Intelligence Artificielle\\nMANAGEMENT :\\nEntreprenariat, Leadership, Marketing Digital,Développement durable et e-Business\\nSOFT SKILLS\\xa0:\\nSéminaires, Développement personnel, Langues, etc.\\nPROJET PROFESSIONNEL\\xa0:\\nStages, PFE, Projets intégrés, Visites d’entreprises, etc.', 'Compétences': 'Concevoir et développer une solution décisionnelle et analytique\\nMaîtriser les systèmes et outils informatiques au sein des organisations.\\nMaîtriser les notions fondamentales des sciences de gestion : Marketing, Entreprenariat, Innovation, Développement durable, etc.', 'Métiers': 'Consultant BI\\nAnalyste / Consultant Décisionnel\\nExpert Logiciel (ETL, PowerBI, etc.)\\nIntégrateur d’Applications Décisionnelles\\nAnalyste d’Affaires', 'Secteurs d’activité': 'Sociétés de services informatique\\nÉditeurs de logiciels\\nBanques & Assurances\\nEntreprises commerciales\\nEntreprises industrielles', 'Partenariats professionnels': '\\n>Entreprises de services numériques\\n> Banques et Assurances\\n> Opérateurs de télécommunication', 'Semestre 1': 'Algorithmique et Structures de Données 1\\nSystèmes d’Exploitation Systèmes Logiques et Architectures des Ordinateurs\\nAnalyse\\nStatistiques et Probabilités\\nPrincipes de Gestion\\nComptabilité générale\\nCompétences Numériques : Excel avancé\\nBusiness Communication 1\\nPrincipes de l’économie\\nTravail Collaboratif\\nInterface Homme Machine\\nSéminaire', 'Semestre 2': 'Algorithmique et Structures de Données 2\\nFondements des réseaux\\nIntroduction aux Systèmes d’Information\\nLogique Mathématique\\nAlgèbre\\nSystèmes d’Information Comptable\\nGestion Financière\\nBusiness Communication 2\\nDéveloppement durable\\nProjet Tuteuré\\nIntroduction à l’informatique décisionnelle\\nMarketing Stratégique', 'Semestre 3': 'Programmation OO\\nProgrammation Web 1\\nConception OO des Systèmes d’Information\\nBases de Données\\nStatistiques Inférentielles\\nFondements de l’IA\\nMarketing Digital\\nEconomie Numérique\\nEthique et Lois des IT\\nProjet Professionnel Personnel (PPP)\\nSocial Media\\nManagement des Projets\\nSéminaire', 'Semestre 4': 'Gestion des Opérations et de la logistique\\nBusiness Process Management\\nFramework .Net\\nProgrammation Web2\\nSGBD & Administration des BDs\\nGouvernance des SI\\nSécurité des SI\\nProblem Solving\\nAnglais\\nProjet Tuteuré métier\\nEntrepreneuriat & Innovation\\nBig Data', 'Semestre 5': 'Intégration des SI\\nERP\\nGénie Logiciel\\nGestion des Projets SI\\nDéveloppement Mobile\\nDéveloppement JEE\\nBusiness Intelligence\\nStratégies d’Affaires électroniques\\nProfessional Network Service – gestion de carrière\\nAnglais d’Affaires\\nE-Business\\nE-CRM\\nSéminaire métier'}]\n"
     ]
    }
   ],
   "source": [
    "import json\n",
    "import os\n",
    "\n",
    "# Write to JSON\n",
    "file_path = './licence.json'\n",
    "\n",
    "# Check if the file exists\n",
    "file_exists = os.path.isfile(file_path)\n",
    "\n",
    "# Read existing data if the file exists\n",
    "if file_exists:\n",
    "    with open(file_path, 'r', encoding='utf-8') as jsonfile:\n",
    "        prev_data = json.load(jsonfile)\n",
    "else:\n",
    "    prev_data = []\n",
    "\n",
    "# Append the new flattened result\n",
    "prev_data.append(data)\n",
    "print(prev_data)\n",
    "# Write the updated data back to the JSON file\n",
    "with open(file_path, 'w', encoding='utf-8') as jsonfile:\n",
    "    json.dump(prev_data, jsonfile, ensure_ascii=False, indent=4)"
   ]
  }
 ],
 "metadata": {
  "kernelspec": {
   "display_name": "base",
   "language": "python",
   "name": "python3"
  },
  "language_info": {
   "codemirror_mode": {
    "name": "ipython",
    "version": 3
   },
   "file_extension": ".py",
   "mimetype": "text/x-python",
   "name": "python",
   "nbconvert_exporter": "python",
   "pygments_lexer": "ipython3",
   "version": "3.12.4"
  }
 },
 "nbformat": 4,
 "nbformat_minor": 2
}
