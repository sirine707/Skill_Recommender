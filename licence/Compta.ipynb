{
 "cells": [
  {
   "cell_type": "code",
   "execution_count": 1,
   "metadata": {},
   "outputs": [],
   "source": [
    "from bs4 import BeautifulSoup\n",
    "import requests\n",
    "import csv "
   ]
  },
  {
   "cell_type": "code",
   "execution_count": 48,
   "metadata": {},
   "outputs": [],
   "source": [
    "def get_page_contents(url):\n",
    "    headers = {\n",
    "        'User-Agent': 'Mozilla/5.0 (Windows NT 10.0; Win64; x64) AppleWebKit/537.36 (KHTML, like Gecko) Chrome/107.0.0.0 Safari/537.36'\n",
    "    }\n",
    "\n",
    "    page = requests.get(url, headers=headers)\n",
    "\n",
    "    if page.status_code == 200:\n",
    "        return page.text\n",
    "\n",
    "    return None"
   ]
  },
  {
   "cell_type": "code",
   "execution_count": null,
   "metadata": {},
   "outputs": [],
   "source": [
    "def get_parcours_compta(page_contents):\n",
    "    soup = BeautifulSoup(page_contents, 'html.parser')\n",
    "    structured_content = {}\n",
    "    \n",
    "    # Find the main div containing the sections\n",
    "    parcours_compta_div = soup.find('div', id='elementor-tab-content-7522', class_='elementor-tab-content elementor-clearfix')\n",
    "    \n",
    "    if parcours_compta_div:\n",
    "        # Find all h3 headings within this div\n",
    "        headings = parcours_compta_div.find_all('h3')\n",
    "        \n",
    "        for heading in headings:\n",
    "            key_text = heading.get_text(strip=True)\n",
    "            \n",
    "            # Handle 'Matières par semestre' specially\n",
    "            if key_text == 'Matières par semestre':\n",
    "                semester_content = {}\n",
    "                \n",
    "                for i in range(1, 7):  # Loop through semesters 1 to 6\n",
    "                    semester_heading = heading.find_next(string=f'Semestre {i}')\n",
    "                    \n",
    "                    if semester_heading:\n",
    "                        # Get the <ul> list that follows the semester heading\n",
    "                        materials_list = semester_heading.find_next('ul')\n",
    "                        materials = [li.get_text(strip=True) for li in materials_list.find_all('li')] if materials_list else []\n",
    "                        \n",
    "                        # Add to the dictionary for the current semester\n",
    "                        semester_content[f'Semestre {i}'] = materials\n",
    "                \n",
    "                # Add the gathered semester content to the main dictionary under 'Matières par semestre'\n",
    "                structured_content['Matières par semestre'] = semester_content\n",
    "            \n",
    "            else:\n",
    "                # Collect both <p> and <ul> elements following the heading\n",
    "                values = []\n",
    "                for sibling in heading.find_next_siblings(['p', 'ul']):\n",
    "                    if sibling.name == 'p':\n",
    "                        values.append(sibling.get_text(strip=True))\n",
    "                    elif sibling.name == 'ul':\n",
    "                        # Extract text from all <li> elements in the <ul>\n",
    "                        values.extend([li.get_text(strip=True) for li in sibling.find_all('li')])\n",
    "                \n",
    "                structured_content[key_text] = values\n",
    "    \n",
    "    return structured_content\n"
   ]
  },
  {
   "cell_type": "code",
   "execution_count": null,
   "metadata": {},
   "outputs": [],
   "source": [
    "if __name__ == '__main__':\n",
    "    url = 'https://www.esb.tn/programmes/licences/sciences-de-gestion/'\n",
    "    page_contents = get_page_contents(url)\n",
    "    result=[]   #keep result when appending all of the programs for now we will try to use it for csv test file\n",
    "\n",
    "    if page_contents:\n",
    "        result.append(get_parcours_compta(page_contents))\n",
    "    else:\n",
    "        print('Failed to get page contents.')"
   ]
  },
  {
   "cell_type": "code",
   "execution_count": null,
   "metadata": {},
   "outputs": [],
   "source": [
    "field_names = [\n",
    "    'Objectifs', 'Contenu', 'Compétences', 'Métiers', 'Secteurs d’activité', 'Partenariats professionnels',\n",
    "    'Semestre 1', 'Semestre 2', 'Semestre 3', 'Semestre 4', 'Semestre 5', 'Semestre 6'\n",
    "]\n",
    "\n",
    "# Flatten the data\n",
    "flattened_result = {}\n",
    "for dict in result:\n",
    "    for key, value in dict.items():\n",
    "        if key == 'Matières par semestre':\n",
    "            # Extract each semester as a separate field\n",
    "            for semester, courses in value.items():\n",
    "                flattened_result[semester] = ', '.join(courses)\n",
    "        elif isinstance(value, list):\n",
    "            # Join list items with commas\n",
    "            flattened_result[key] = ', '.join(value)\n",
    "        else:\n",
    "            flattened_result[key] = value\n",
    "\n",
    "# Write to CSV\n",
    "with open('./licence.csv', 'w', newline='', encoding='utf-8') as csvfile:\n",
    "    writer = csv.DictWriter(csvfile, fieldnames=field_names)\n",
    "    \n",
    "    # Write the header\n",
    "    writer.writeheader()\n",
    "    \n",
    "    # Write the flattened result as a row\n",
    "    writer.writerow(flattened_result)"
   ]
  }
 ],
 "metadata": {
  "kernelspec": {
   "display_name": "Python 3",
   "language": "python",
   "name": "python3"
  },
  "language_info": {
   "codemirror_mode": {
    "name": "ipython",
    "version": 3
   },
   "file_extension": ".py",
   "mimetype": "text/x-python",
   "name": "python",
   "nbconvert_exporter": "python",
   "pygments_lexer": "ipython3",
   "version": "3.11.5"
  }
 },
 "nbformat": 4,
 "nbformat_minor": 2
}
