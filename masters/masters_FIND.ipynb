{
 "cells": [
  {
   "cell_type": "code",
   "execution_count": null,
   "metadata": {},
   "outputs": [],
   "source": [
    "from bs4 import BeautifulSoup\n",
    "import requests\n",
    "import csv \n",
    "import os"
   ]
  },
  {
   "cell_type": "code",
   "execution_count": 12,
   "metadata": {},
   "outputs": [],
   "source": [
    "def get_page_contents(url):\n",
    "    headers = {\n",
    "        'User-Agent': 'Mozilla/5.0 (Windows NT 10.0; Win64; x64) AppleWebKit/537.36 (KHTML, like Gecko) Chrome/107.0.0.0 Safari/537.36'\n",
    "    }\n",
    "\n",
    "    page = requests.get(url, headers=headers)\n",
    "\n",
    "    if page.status_code == 200:\n",
    "        return page.text\n",
    "\n",
    "    return None"
   ]
  },
  {
   "cell_type": "code",
   "execution_count": 13,
   "metadata": {},
   "outputs": [],
   "source": [
    "def get_masters_FIND(page_contents):\n",
    "    soup = BeautifulSoup(page_contents, 'html.parser')\n",
    "    structured_content = {}\n",
    "    \n",
    "    # Find the main div containing the sections\n",
    "    parcours_find_div = soup.find('div', id='elementor-tab-content-2011', class_='elementor-tab-content elementor-clearfix')\n",
    "    \n",
    "    if parcours_find_div:\n",
    "        # Extract headings and their corresponding content\n",
    "        headings = parcours_find_div.find_all('h3')\n",
    "        for heading in headings:\n",
    "            key_text = heading.get_text(strip=True)\n",
    "            values = []\n",
    "            \n",
    "            # Special case for \"Matières par semestre\"\n",
    "            if key_text == 'Matières par semestre':\n",
    "                semester_content = {}\n",
    "                # Locate each semester section\n",
    "                semesters = parcours_find_div.find_all('div', class_='elementor-accordion-item')\n",
    "                matieres_par_semestre = {}\n",
    "                for semester in semesters:\n",
    "                    # Get the semester heading (e.g., \"Semestre 1\")\n",
    "                    semester_heading = semester.find('a').get_text(strip=True)\n",
    "\n",
    "                    # Find the content inside the semester section\n",
    "                    content_div = semester.find('div', class_='elementor-tab-content elementor-clearfix')\n",
    "                    if content_div:\n",
    "                        # Extract list items\n",
    "                        semester_content_list = [\n",
    "                            li.get_text(strip=True) for li in content_div.find_all('li')\n",
    "                        ]\n",
    "                        if semester_heading and semester_content_list:\n",
    "                            matieres_par_semestre[semester_heading] = semester_content_list\n",
    "\n",
    "                structured_content['Matières par semestre'] = matieres_par_semestre\n",
    "            elif(key_text == 'Contenu'):\n",
    "                values = []\n",
    "                for sibling in heading.find_next_siblings(['ul'], limit=1):\n",
    "                    values.extend([li.get_text(strip=True) for li in sibling.find_all('li')])\n",
    "                structured_content[key_text] = values\n",
    "            else:\n",
    "                # For other sections like \"Objectifs,\" \"Contenu,\" etc.\n",
    "                for sibling in heading.find_next_siblings(['p', 'ul'], limit=3):  # Limit to avoid unrelated content\n",
    "                    if sibling.name == 'p':\n",
    "                        values.append(sibling.get_text(strip=True))\n",
    "                    elif sibling.name == 'ul':\n",
    "                        values.extend([li.get_text(strip=True) for li in sibling.find_all('li')])\n",
    "                structured_content[key_text] = values\n",
    "    \n",
    "    return structured_content"
   ]
  },
  {
   "cell_type": "code",
   "execution_count": 14,
   "metadata": {},
   "outputs": [],
   "source": [
    "if __name__ == '__main__':\n",
    "    url = 'https://www.esb.tn/programmes/masters-professionnels/master-professionnel-en-finance-digitale/'\n",
    "    page_contents = get_page_contents(url)\n",
    "    result=[]   #keep result when appending all of the programs for now we will try to use it for csv test file\n",
    "\n",
    "    if page_contents:\n",
    "        result.append(get_masters_FIND(page_contents))\n",
    "        #print(get_masters_CCA(page_contents))\n",
    "    else:\n",
    "        print('Failed to get page contents.')"
   ]
  },
  {
   "cell_type": "code",
   "execution_count": 15,
   "metadata": {},
   "outputs": [],
   "source": [
    "field_names = [\n",
    "    'Objectifs', 'Contenu', 'Compétences', 'Métiers', 'Secteurs d’activité', 'Partenariats professionnels',\n",
    "    'Semestre 1', 'Semestre 2', 'Semestre 3', 'Semestre 4'\n",
    "]\n",
    "\n",
    "# Flatten the data\n",
    "flattened_result = {}\n",
    "for dict in result:\n",
    "    for key, value in dict.items():\n",
    "        if key == 'Matières par semestre':\n",
    "            # Extract each semester as a separate field\n",
    "            for semester, courses in value.items():\n",
    "                flattened_result[semester] = ', '.join(courses)\n",
    "        elif isinstance(value, list):\n",
    "            # Join list items with commas\n",
    "            flattened_result[key] = ', '.join(value)\n",
    "        else:\n",
    "            flattened_result[key] = value\n",
    "flattened_result.pop('Période d’harmonisation')\n",
    "\n",
    "file_exists = os.path.exists('./masters.csv')\n",
    "with open('./masters.csv', 'a', newline='', encoding='utf-8') as csvfile:\n",
    "    writer = csv.DictWriter(csvfile, fieldnames=field_names)\n",
    "    \n",
    "    if not file_exists or csvfile.tell() == 0:\n",
    "        writer.writeheader()\n",
    "    \n",
    "    # Write the flattened result as a row\n",
    "    writer.writerow(flattened_result)"
   ]
  }
 ],
 "metadata": {
  "kernelspec": {
   "display_name": "Python 3",
   "language": "python",
   "name": "python3"
  },
  "language_info": {
   "codemirror_mode": {
    "name": "ipython",
    "version": 3
   },
   "file_extension": ".py",
   "mimetype": "text/x-python",
   "name": "python",
   "nbconvert_exporter": "python",
   "pygments_lexer": "ipython3",
   "version": "3.11.5"
  }
 },
 "nbformat": 4,
 "nbformat_minor": 2
}
