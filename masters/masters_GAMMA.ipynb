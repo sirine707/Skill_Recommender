{
 "cells": [
  {
   "cell_type": "code",
   "execution_count": 1,
   "metadata": {},
   "outputs": [],
   "source": [
    "from bs4 import BeautifulSoup\n",
    "import requests\n",
    "import csv \n",
    "import os\n"
   ]
  },
  {
   "cell_type": "code",
   "execution_count": 2,
   "metadata": {},
   "outputs": [],
   "source": [
    "def get_page_contents(url):\n",
    "    headers = {\n",
    "        'User-Agent': 'Mozilla/5.0 (Windows NT 10.0; Win64; x64) AppleWebKit/537.36 (KHTML, like Gecko) Chrome/107.0.0.0 Safari/537.36'\n",
    "    }\n",
    "\n",
    "    page = requests.get(url, headers=headers)\n",
    "\n",
    "    if page.status_code == 200:\n",
    "        return page.text\n",
    "\n",
    "    return None"
   ]
  },
  {
   "cell_type": "code",
   "execution_count": 3,
   "metadata": {},
   "outputs": [],
   "source": [
    "def get_masters_GAMMA(page_contents):\n",
    "    soup = BeautifulSoup(page_contents, 'html.parser')\n",
    "    structured_content = {}\n",
    "    \n",
    "    # Find the main div containing the sections\n",
    "    parcours_gamma_div = soup.find('div', id='elementor-tab-content-2011', class_='elementor-tab-content elementor-clearfix')\n",
    "    \n",
    "    if parcours_gamma_div:\n",
    "        # Extract headings and their corresponding content\n",
    "        headings = parcours_gamma_div.find_all('h3')\n",
    "        for heading in headings:\n",
    "            key_text = heading.get_text(strip=True)\n",
    "            values = []\n",
    "            \n",
    "            # Special case for \"Matières par semestre\"\n",
    "            if key_text == 'Matières par semestre':\n",
    "                semester_content = {}\n",
    "                # Locate each semester section\n",
    "                semesters = parcours_gamma_div.find_all('div', class_='elementor-accordion-item')\n",
    "                matieres_par_semestre = {}\n",
    "                for semester in semesters:\n",
    "                    # Get the semester heading (e.g., \"Semestre 1\")\n",
    "                    semester_heading = semester.find('a').get_text(strip=True)\n",
    "\n",
    "                    # Find the content inside the semester section\n",
    "                    content_div = semester.find('div', class_='elementor-tab-content elementor-clearfix')\n",
    "                    if content_div:\n",
    "                        # Extract list items\n",
    "                        semester_content_list = [\n",
    "                            li.get_text(strip=True) for li in content_div.find_all('li')\n",
    "                        ]\n",
    "                        if semester_heading and semester_content_list:\n",
    "                            matieres_par_semestre[semester_heading] = semester_content_list\n",
    "\n",
    "                structured_content['Matières par semestre'] = matieres_par_semestre\n",
    "            elif(key_text == 'Contenu'):\n",
    "                values = []\n",
    "                for sibling in heading.find_next_siblings(['ul'], limit=1):\n",
    "                    values.extend([li.get_text(strip=True) for li in sibling.find_all('li')])\n",
    "                structured_content[key_text] = values\n",
    "            else:\n",
    "                # For other sections like \"Objectifs,\" \"Contenu,\" etc.\n",
    "                for sibling in heading.find_next_siblings(['p', 'ul'], limit=3):  # Limit to avoid unrelated content\n",
    "                    if sibling.name == 'p':\n",
    "                        values.append(sibling.get_text(strip=True))\n",
    "                    elif sibling.name == 'ul':\n",
    "                        values.extend([li.get_text(strip=True) for li in sibling.find_all('li')])\n",
    "                structured_content[key_text] = values\n",
    "    \n",
    "    return structured_content\n"
   ]
  },
  {
   "cell_type": "code",
   "execution_count": 4,
   "metadata": {},
   "outputs": [],
   "source": [
    "if __name__ == '__main__':\n",
    "    url = 'https://www.esb.tn/programmes/masters-professionnels/master-professionnel-gamma/'\n",
    "    page_contents = get_page_contents(url)\n",
    "    result=[]   #keep result when appending all of the programs for now we will try to use it for csv test file\n",
    "\n",
    "    if page_contents:\n",
    "        result.append(get_masters_GAMMA(page_contents))\n",
    "        #print(get_masters_CCA(page_contents))\n",
    "    else:\n",
    "        print('Failed to get page contents.')"
   ]
  },
  {
   "cell_type": "code",
   "execution_count": 5,
   "metadata": {},
   "outputs": [],
   "source": [
    "field_names = [\n",
    "    'Objectifs', 'Contenu', 'Compétences', 'Métiers', 'Secteurs d’activité', 'Partenariats professionnels',\n",
    "    'Semestre 1', 'Semestre 2', 'Semestre 3', 'Semestre 4'\n",
    "]\n",
    "\n",
    "# Flatten the data\n",
    "flattened_result = {}\n",
    "for dict in result:\n",
    "    for key, value in dict.items():\n",
    "        if key == 'Matières par semestre':\n",
    "            # Extract each semester as a separate field\n",
    "            for semester, courses in value.items():\n",
    "                flattened_result[semester] = ', '.join(courses)\n",
    "        elif isinstance(value, list):\n",
    "            # Join list items with commas\n",
    "            flattened_result[key] = ', '.join(value)\n",
    "        else:\n",
    "            flattened_result[key] = value\n",
    "\n",
    "# Write to CSV\n",
    "with open('./masters.csv', 'a', newline='', encoding='utf-8') as csvfile:\n",
    "    # Check if the file is empty\n",
    "    file_is_empty = os.stat('./masters.csv').st_size == 0\n",
    "\n",
    "    # Create a DictWriter object\n",
    "    writer = csv.DictWriter(csvfile, fieldnames=field_names)\n",
    "    \n",
    "    # Write the header only if the file is empty\n",
    "    if file_is_empty:\n",
    "        writer.writeheader()\n",
    "    \n",
    "    # Write the flattened result as a row\n",
    "    writer.writerow(flattened_result)"
   ]
  },
  {
   "cell_type": "code",
   "execution_count": 6,
   "metadata": {},
   "outputs": [
    {
     "name": "stdout",
     "output_type": "stream",
     "text": [
      "[{'Objectifs': 'Le Master Professionnel en Business Analytics est co-construit avec l’entreprise « Business & Decision Tunisie ». Il est au croisement de la Data Science, de la Business Intelligence et du Management. Le programme vise à former des experts capables de développer des solutions décisionnelles analytiques.\\nLe Master Professionnel en Business Analytics est disponible en double diplôme avec le Master Intelligence Artificielle & Business transformation avec PSTB.', 'Contenu': 'DATA SCIENCE ET INTELLIGENCE ARTIFICIELLE : Machine Learning, Deep Learning, Data Mining, Time Series, Statistical Analysis, Data Visualization.\\nINFORMATIQUE : Big Data, Business Intelligence, Data Bases, Programmation\\nMANAGEMENT : Business Process Management, E-business, Management Stratégique, Management de l’innovation.\\nSOFT SKILLS\\xa0 : Design Thinking, Séminaires, Développement Personnel, Langues.\\nPROJET PROFESSIONNEL : Stages, PFE, Projets Intégrés, Visites d’entreprises, etc.', 'Compétences': 'Conceptualiser, modéliser et analyser des données massives hétérogènes.\\nÉlaborer une vision stratégique en se basant sur la modélisation prédictive explicative.\\nDévelopper des outils de visualisation des données.\\nConstruire les indicateurs de performance les mieux élaborés grâce aux techniques d’analyse de données et aux pratiques numériques les plus robustes.', 'Métiers': 'Data Analyst\\nBusiness Analyst\\nData Scientist\\nIngénieur d’Affaires\\nBusiness Development Manager\\nConsultant Analytique\\nConsultant Expert BI\\nConsultant Big Data', 'Secteurs d’activité': 'Sociétés de services informatiques\\nOpérateurs téléphoniques\\nBanques, Assurances & Bourses\\nEntreprises commerciales ou industrielles', 'Partenariats professionnels': 'Business & Decision Tunisie | Entreprises de services numériques | Banques et Assurances', 'Période d’Harmonisation': 'Principes de gestion\\nFondamentaux mathématiques\\nLes fondamentaux des SI\\nFinance\\nProbabilités et Statistiques\\nBases de données et SGBD\\nMarketing\\nAnalyse statistique\\nAtelier de programmation', 'Semestre 1': 'Gestion de projets et conduite au changement\\nManagement de l’innovation\\nRecherche opérationnelle\\nSGBD et PL/SQL\\nSystèmes d’information décisionnels\\nKnowledge management\\nVeille et intelligence technologique\\nCompétences personnelles et relationnelles\\nSéminaire métiers I\\nAnglais I', 'Semestre 2': 'Management stratégique\\nPilotage de projets décisionnels\\nSéries temporelles\\nIntroduction au cloud computing\\nMachine learning\\nData mining\\nAnglais II\\nSéminaire métiers I\\nProjet tuteuré orienté business intelligence\\nAnalyse des données financières\\nAnalyse de données marketing\\ne-Business', 'Semestre 3': 'Business process management\\nDroit des données numériques\\nDeep learning et IA\\nGouvernance et sécurité des données\\nBig Data analytics\\nData visualization\\nAnglais III\\nProjet tutoré orienté Big Data\\nSéminaire métiers\\nArchitecture orientée services\\nIoT\\nDigital technology & Business value', 'Semestre 4': 'Atelier BI\\nStage de 6 mois en Entreprise (SFE)'}, {'Objectifs': 'Le Master Professionnel en Finance Digitale vise à former des cadres financiers de haut niveau dotés des compétences informatiques et financières requises par les secteurs à forte présence technologique comme le secteur bancaire, les assurances, les cabinets d’audit et de conseil en finance digitale «les Fintech.»., Le Master Professionnel en Finance Digitale est disponible en double diplôme avec le Master Fintech de MBS., ', 'Contenu': 'FINANCE: Analyse Financière Approfondie, Asset Liability, Inclusion Financière, Finance Internationale, Microstructure des Marchés Financiers, etc., DIGITAL :Technologie Blockchain, Cybersécurité, RegTech, etc. Intelligence Artificielle en Finance, Cryptographie,, SOFT SKILLS :Séminaires, Développement Personnel, Business Games, Langues, etc.', 'Compétences': 'Analyser et gérer les risques financiers par la mise en application des modèles de prévisions et de mesure des risques financiers., Appréhender les différentes étapes du processus de réalisation d’un projet innovant en finance digitale., Maîtriser les nouvelles technologies appliquées dans les transactions financières et les risques liés., Auditer et valider la sécurité des systèmes d’information et la sécurité des données financières., ', 'Métiers': 'Analyste Financier, Chef de Projet FinTech, Conseiller Financier, Conseiller en Sécurité et Cryptographie, Trader de Crypto-Actifs, Consultant en Innovation Financière', 'Secteurs d’activité': 'Secteur Bancaire et des Assurances, Organismes de Placement et de Gestion d’Actifs, Cabinets de Conseil et d’Audit, Entreprises du secteur des Technologies & IT', 'Partenariats professionnels': '> Banques et Assurances, > Entreprises Fintech', 'Semestre 1': 'Intelligence artificielle en finance, Analyse financière approfondie, Finance de marché, Microstructure des marchés financiers, Droit financier, Anglais I, Culture numérique / Séminaires métiers I, Projet tutoré I, VBA Excel /BD & SGBD', 'Semestre 2': 'Big Data, Inclusion financière, Finance internationale & globalisation financière, Management de l’innovation, Produits bancaires innovants, Econométrie appliquée à la finance, Efficacité professionnelle & Compétences personnelles, Projet tutoré II, Solutions SI : ERP, CRM & Core Banking / Actuariat', 'Semestre 3': 'Datamining, Trading à haute fréquence (THF), Technologies RPA, Technologies BlockChain & Crypto-monnaies, Ethiques et risques de la Fintech, Cyber sécurité et cryptographie, RegTech, Lois relatives à la protection des données personnelles, Anglais II/Préparation & Insertion à la vie professionnelle, Atelier de design Thinking / Séminaires métiers III, Projet tutoré III, Applications financières : Open Banking /Assurance digitale : InsurTech', 'Semestre 4': 'Stage de fin d’études L’accès au Master :'}, {'Objectifs': 'Le Master Professionnel en Gestion Actuarielle et Modélisation Mathématiquevise\\xa0à former des diplômés dotés de compétences en mathématiques, statistiques et en Intelligence Artificielle., À l’issue de ce master, les diplômés seront dotés d’expertises en Actuariat et Gestion du Risque. Le Master Professionnel en Gestion Actuarielle et Modélisation Mathématique est construit en partenariat avec l’Association Tunisienne des Actuaires et disponible en double diplôme avec le Master d’Actuariat de l’Université du Mans., ', 'Contenu': 'ACTUARIAT :Introduction à l’Actuariat, Actuariat Vie, Actuariat Non-Vie, Actuariat pour la Réassurance et Risques Extrêmes, Modèles Aléatoires pour l’Actuariat et la Finance, etc., MATHÉMATIQUES & STATISTIQUES\\xa0:Intégration et Probabilités, Statistiques Inférentielles, Méthodes de Monte Carlo, Apprentissage Statistique, Séries Temporelles, etc., DATA SCIENCE :Programmation (Python, R et VBA), Bases de Données, Machine Learning, Deep Learning, Big Data Analytics, etc., GESTION DU RISQUE ET ASSURANCE :Gestion de Portefeuille, Asset And Liability Management, Modélisation et Mesure du Risque, Comptabilité Sectorielle, Management des Risques, Modèles Financiers., PROJET PROFESSIONNEL\\xa0:Projets Intégrés, Visites d’entreprises, Stages, PFE, etc., SOFT SKILLS\\xa0:Séminaires, Développement Personnel, Business Games, etc.', 'Compétences': 'Adapter les outils de traitement statistique des données., Modéliser mathématiquement des problèmes managériaux, simuler, tester et vérifier pour prendre des décisions., Développer des modèles mathématiques pour la création de produits d’assurance ou d’épargne., Élaborer des modèles explicatifs ou prédictifs., Analyser des données massives., Réaliser des études en analyse de données financières., , La délivrance du diplôme est en outre soumise à l’obtention du niveau B2 en français et en anglais.', 'Métiers': 'Actuaire, Data Scientist / Data Analyst, Responsable d’Enquêtes Terrain, Opérateur sur Marchés Financiers, Trader, Chargé d’Études Actuarielles en Assurances, Analyste de Crédits et Risques Bancaires, Analyste Financier', 'Secteurs d’activité': 'Banques, Assurances & Bourses, Organisme d’Études et de Sondage, Caisse de retraite et de Prévoyance, Entreprises Commerciales ou Industrielles', 'Partenariats professionnels': '> Association Tunisienne des Actuaires, > Banques et Assurances', 'Semestre 1': 'Intégration et Probabilité, Analyse numérique, Atelier de programmation avec Python, Bases de données, Statistiques inférentielles, Introduction à l’actuariat, Comptabilité générale et financière, Théorie du risque, Anglais1 /Séminaire 1, Projet tutoré 1 (Programmation VBA)', 'Semestre 2': 'Modèles linéaires généralisés, Séries temporelles, Fondamentaux en probabilités, Méthodes de Monte-Carlo, Actuariat vie et non vie, Machine Learning, Modèles financiers, Management des risques, Comptabilité sectorielle (Assurance), Droit numérique et protection des données personnelles, Anglais2/ Séminaire 2, Projet tutoré 2 (Programmation VBA)', 'Semestre 3': 'Modèles aléatoires pour l’actuariat et la finance, Actuariat pour la réassurance et risques extrêmes, Modélisation et mesure du risque, Asset and Liability Management (ALM), Apprentissage statistique, Big Data Analytics, Droit des entreprises d’assurance et réglementation, Gestion de risque de l’assurance, Préparation et Insertion professionnelle / Séminaire 3, Projet tutoré 3', 'Semestre 4': 'Stage de 6 mois\\xa0 en Entreprise (SFE)'}]\n"
     ]
    }
   ],
   "source": [
    "import json\n",
    "import os\n",
    "\n",
    "# Write to JSON\n",
    "file_path = './masters.json'\n",
    "\n",
    "# Check if the file exists\n",
    "file_exists = os.path.isfile(file_path)\n",
    "\n",
    "# Read existing data if the file exists\n",
    "if file_exists:\n",
    "    with open(file_path, 'r', encoding='utf-8') as jsonfile:\n",
    "        prev_data = json.load(jsonfile)\n",
    "else:\n",
    "    prev_data = []\n",
    "\n",
    "# Append the new flattened result\n",
    "prev_data.append(flattened_result)\n",
    "print(prev_data)\n",
    "# Write the updated data back to the JSON file\n",
    "with open(file_path, 'w', encoding='utf-8') as jsonfile:\n",
    "    json.dump(prev_data, jsonfile, ensure_ascii=False, indent=4)"
   ]
  }
 ],
 "metadata": {
  "kernelspec": {
   "display_name": "base",
   "language": "python",
   "name": "python3"
  },
  "language_info": {
   "codemirror_mode": {
    "name": "ipython",
    "version": 3
   },
   "file_extension": ".py",
   "mimetype": "text/x-python",
   "name": "python",
   "nbconvert_exporter": "python",
   "pygments_lexer": "ipython3",
   "version": "3.12.4"
  }
 },
 "nbformat": 4,
 "nbformat_minor": 2
}
