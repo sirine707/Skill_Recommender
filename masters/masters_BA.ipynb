{
 "cells": [
  {
   "cell_type": "code",
   "execution_count": 1,
   "metadata": {},
   "outputs": [],
   "source": [
    "import requests\n",
    "from bs4 import BeautifulSoup\n",
    "import pandas as pd\n",
    "import csv"
   ]
  },
  {
   "cell_type": "code",
   "execution_count": 2,
   "metadata": {},
   "outputs": [],
   "source": [
    "# URL du site web\n",
    "url = 'https://www.esb.tn/programmes/masters-professionnels/master-en-business-analytics/'\n",
    "# Charger le contenu HTML depuis la page web\n",
    "response = requests.get(url)\n",
    "response.raise_for_status()  # Vérifier que la requête s'est bien passée\n",
    "html = response.text\n",
    "# Parser le HTML avec BeautifulSoup\n",
    "soup = BeautifulSoup(html, 'html.parser')"
   ]
  },
  {
   "cell_type": "code",
   "execution_count": 3,
   "metadata": {},
   "outputs": [
    {
     "name": "stdout",
     "output_type": "stream",
     "text": [
      "Objectifs\n",
      "Le Master Professionnel en Business Analytics est co-construit avec l’entreprise « Business & Decision Tunisie ». Il est au croisement de la Data Science, de la Business Intelligence et du Management. Le programme vise à former des experts capables de développer des solutions décisionnelles analytiques.\n",
      "Le Master Professionnel en Business Analytics est disponible en double diplôme avec le Master Intelligence Artificielle & Business transformation avec PSTB.\n",
      "\n",
      "Contenu\n",
      "DATA SCIENCE ET INTELLIGENCE ARTIFICIELLE : Machine Learning, Deep Learning, Data Mining, Time Series, Statistical Analysis, Data Visualization.\n",
      "INFORMATIQUE : Big Data, Business Intelligence, Data Bases, Programmation\n",
      "MANAGEMENT : Business Process Management, E-business, Management Stratégique, Management de l’innovation.\n",
      "SOFT SKILLS  : Design Thinking, Séminaires, Développement Personnel, Langues.\n",
      "PROJET PROFESSIONNEL : Stages, PFE, Projets Intégrés, Visites d’entreprises, etc.\n",
      "\n",
      "Compétences\n",
      "Conceptualiser, modéliser et analyser des données massives hétérogènes.\n",
      "Élaborer une vision stratégique en se basant sur la modélisation prédictive explicative.\n",
      "Développer des outils de visualisation des données.\n",
      "Construire les indicateurs de performance les mieux élaborés grâce aux techniques d’analyse de données et aux pratiques numériques les plus robustes.\n"
     ]
    },
    {
     "name": "stderr",
     "output_type": "stream",
     "text": [
      "C:\\Users\\sirine jnayeh\\AppData\\Local\\Temp\\ipykernel_16088\\2950733171.py:2: DeprecationWarning: The 'text' argument to find()-type methods is deprecated. Use 'string' instead.\n",
      "  objectifs_section = soup.find('h3', text=\"Objectifs\")\n",
      "C:\\Users\\sirine jnayeh\\AppData\\Local\\Temp\\ipykernel_16088\\2950733171.py:9: DeprecationWarning: The 'text' argument to find()-type methods is deprecated. Use 'string' instead.\n",
      "  contenu_section = soup.find('h3', text=\"Contenu\")\n",
      "C:\\Users\\sirine jnayeh\\AppData\\Local\\Temp\\ipykernel_16088\\2950733171.py:15: DeprecationWarning: The 'text' argument to find()-type methods is deprecated. Use 'string' instead.\n",
      "  competences_section = soup.find('h3', text=\"Compétences\")\n"
     ]
    }
   ],
   "source": [
    "# Extraire la section \"Objectifs\"\n",
    "objectifs_section = soup.find('h3', text=\"Objectifs\")\n",
    "if objectifs_section:\n",
    "    objectifs = objectifs_section.find_next('p').text.strip()  # Premier paragraphe\n",
    "    objectifs_suite = objectifs_section.find_next('p').find_next('p').text.strip()  # Deuxième paragraphe\n",
    "    objectifs = f\"{objectifs}\\n{objectifs_suite}\"\n",
    "\n",
    "# Extraire la section \"Contenu\"\n",
    "contenu_section = soup.find('h3', text=\"Contenu\")\n",
    "if contenu_section:\n",
    "    contenu_list = contenu_section.find_next('ul').find_all('li')\n",
    "    contenu = \"\\n\".join([item.text.strip() for item in contenu_list])\n",
    "\n",
    "# Extraire la section \"Compétences\"\n",
    "competences_section = soup.find('h3', text=\"Compétences\")\n",
    "if competences_section:\n",
    "    competences_list = competences_section.find_next('ul').find_all('li')\n",
    "    competences = \"\\n\".join([item.text.strip() for item in competences_list])\n",
    "\n",
    "# Format final pour l'affichage\n",
    "result = f\"Objectifs\\n{objectifs}\\n\\nContenu\\n{contenu}\\n\\nCompétences\\n{competences}\"\n",
    "\n",
    "# Afficher le résultat final\n",
    "print(result)"
   ]
  },
  {
   "cell_type": "code",
   "execution_count": 4,
   "metadata": {},
   "outputs": [
    {
     "name": "stdout",
     "output_type": "stream",
     "text": [
      "\n",
      "Métiers:\n",
      "Data Analyst\n",
      "Business Analyst\n",
      "Data Scientist\n",
      "Ingénieur d’Affaires\n",
      "Business Development Manager\n",
      "Consultant Analytique\n",
      "Consultant Expert BI\n",
      "Consultant Big Data\n",
      "\n",
      "Secteurs d’activité:\n",
      "Sociétés de services informatiques\n",
      "Opérateurs téléphoniques\n",
      "Banques, Assurances & Bourses\n",
      "Entreprises commerciales ou industrielles\n",
      "\n",
      "Partenariats professionnels:\n",
      "Business & Decision Tunisie\n",
      "Entreprises de services numériques\n",
      "Banques et Assurances\n",
      "\n"
     ]
    },
    {
     "name": "stderr",
     "output_type": "stream",
     "text": [
      "C:\\Users\\sirine jnayeh\\AppData\\Local\\Temp\\ipykernel_16088\\2399499844.py:3: DeprecationWarning: The 'text' argument to find()-type methods is deprecated. Use 'string' instead.\n",
      "  metiers_section = soup.find('h3', text=\"Métiers\")\n",
      "C:\\Users\\sirine jnayeh\\AppData\\Local\\Temp\\ipykernel_16088\\2399499844.py:12: DeprecationWarning: The 'text' argument to find()-type methods is deprecated. Use 'string' instead.\n",
      "  secteurs_section = soup.find('h3', text=\"Secteurs d’activité\")\n",
      "C:\\Users\\sirine jnayeh\\AppData\\Local\\Temp\\ipykernel_16088\\2399499844.py:22: DeprecationWarning: The 'text' argument to find()-type methods is deprecated. Use 'string' instead.\n",
      "  partenariats_section = soup.find('h3', text=lambda x: x and 'partenariats professionnels' in x.lower())\n"
     ]
    }
   ],
   "source": [
    "# Extraire la section \"Métiers\"\n",
    "metiers = \"\"\n",
    "metiers_section = soup.find('h3', text=\"Métiers\")\n",
    "if metiers_section:\n",
    "    metiers_list = metiers_section.find_next('ul').find_all('li')\n",
    "    metiers = \"\\n\".join([item.text.strip() for item in metiers_list])\n",
    "else:\n",
    "    print(\"Section Métiers non trouvée\")\n",
    "\n",
    "# Extraire la section \"Secteurs d’activité\"\n",
    "secteurs = \"\"\n",
    "secteurs_section = soup.find('h3', text=\"Secteurs d’activité\")\n",
    "if secteurs_section:\n",
    "    secteurs_list = secteurs_section.find_next('ul').find_all('li')\n",
    "    secteurs = \"\\n\".join([item.text.strip() for item in secteurs_list])\n",
    "else:\n",
    "    print(\"Section Secteurs d’activité non trouvée\")\n",
    "\n",
    "\n",
    "# Extraire la section \"Partenariats professionnels\" de manière souple\n",
    "partenariats = \"\"\n",
    "partenariats_section = soup.find('h3', text=lambda x: x and 'partenariats professionnels' in x.lower())\n",
    "\n",
    "if partenariats_section:\n",
    "    \n",
    "    # Chercher le <div> suivant contenant les éléments pertinents\n",
    "    partenariats_content = partenariats_section.find_next('div', class_='elementor-widget-container')\n",
    "    if partenariats_content:\n",
    "        # Extraire les balises <p> contenant des <span> avec les informations\n",
    "        partenariats_list = partenariats_content.find_all('p')\n",
    "        partenariats = \"\\n\".join([item.get_text().strip().replace('>', '').strip() for item in partenariats_list if item.get_text().strip()])\n",
    "    else:\n",
    "        print(\"Contenu des partenariats non trouvé.\")\n",
    "else:\n",
    "    print(\"Section 'Partenariats professionnels' non trouvée.\")\n",
    "\n",
    "    \n",
    "# Format final pour l'affichage\n",
    "result = f\"\"\"\n",
    "Métiers:\n",
    "{metiers}\n",
    "\n",
    "Secteurs d’activité:\n",
    "{secteurs}\n",
    "\n",
    "Partenariats professionnels:\n",
    "{partenariats}\n",
    "\"\"\"\n",
    "\n",
    "# Afficher le résultat final\n",
    "print(result)"
   ]
  },
  {
   "cell_type": "code",
   "execution_count": 5,
   "metadata": {},
   "outputs": [
    {
     "name": "stdout",
     "output_type": "stream",
     "text": [
      "Matières par semestre\n",
      "\n",
      "Période d’Harmonisation\n",
      "Principes de gestion\n",
      "Fondamentaux mathématiques\n",
      "Les fondamentaux des SI\n",
      "Finance\n",
      "Probabilités et Statistiques\n",
      "Bases de données et SGBD\n",
      "Marketing\n",
      "Analyse statistique\n",
      "Atelier de programmation\n",
      "\n",
      "Semestre 1\n",
      "Gestion de projets et conduite au changement\n",
      "Management de l’innovation\n",
      "Recherche opérationnelle\n",
      "SGBD et PL/SQL\n",
      "Systèmes d’information décisionnels\n",
      "Knowledge management\n",
      "Veille et intelligence technologique\n",
      "Compétences personnelles et relationnelles\n",
      "Séminaire métiers I\n",
      "Anglais I\n",
      "\n",
      "Semestre 2\n",
      "Management stratégique\n",
      "Pilotage de projets décisionnels\n",
      "Séries temporelles\n",
      "Introduction au cloud computing\n",
      "Machine learning\n",
      "Data mining\n",
      "Anglais II\n",
      "Séminaire métiers I\n",
      "Projet tuteuré orienté business intelligence\n",
      "Analyse des données financières\n",
      "Analyse de données marketing\n",
      "e-Business\n",
      "\n",
      "Semestre 3\n",
      "Business process management\n",
      "Droit des données numériques\n",
      "Deep learning et IA\n",
      "Gouvernance et sécurité des données\n",
      "Big Data analytics\n",
      "Data visualization\n",
      "Anglais III\n",
      "Projet tutoré orienté Big Data\n",
      "Séminaire métiers\n",
      "Architecture orientée services\n",
      "IoT\n",
      "Digital technology & Business value\n",
      "\n",
      "Semestre 4\n",
      "Atelier BI\n",
      "Stage de 6 mois en Entreprise (SFE)\n",
      "\n"
     ]
    }
   ],
   "source": [
    "# Extraction des matières par semestre\n",
    "semestres_section = soup.find_all('div', class_='elementor-accordion-item')\n",
    "\n",
    "# Stocker les matières par semestre\n",
    "matieres_par_semestre = {}\n",
    "\n",
    "# Variable pour contrôler l'ajout de \"Période d'Harmonisation\" une seule fois\n",
    "periode_harmonisation_extracted = False\n",
    "\n",
    "# Parcourir chaque section de semestre\n",
    "for semestre in semestres_section:\n",
    "    # Extraire le nom du semestre (ex: \"Période d’Harmonisation\", \"Semestre 1\", etc.)\n",
    "    semestre_title = semestre.find('a')\n",
    "    if semestre_title:\n",
    "        semestre_name = semestre_title.text.strip()\n",
    "\n",
    "        # Extraire les matières pour ce semestre\n",
    "        contenu_section = semestre.find('div', class_='elementor-tab-content')\n",
    "        if contenu_section:\n",
    "            matieres_list = contenu_section.find_all('li')\n",
    "            matieres = [item.text.strip() for item in matieres_list]\n",
    "\n",
    "            # Gérer \"Période d'Harmonisation\" et éviter sa répétition\n",
    "            if semestre_name == \"Période d’Harmonisation\" and not periode_harmonisation_extracted:\n",
    "                matieres_par_semestre[\"Période d’Harmonisation\"] = matieres\n",
    "                periode_harmonisation_extracted = True\n",
    "            elif semestre_name != \"Période d’Harmonisation\":\n",
    "                matieres_par_semestre[semestre_name] = matieres\n",
    "\n",
    "# Format final pour l'affichage\n",
    "result = \"Matières par semestre\\n\"\n",
    "\n",
    "# Ajouter la \"Période d’Harmonisation\" en premier, s'il existe\n",
    "if \"Période d’Harmonisation\" in matieres_par_semestre:\n",
    "    result += f\"\\nPériode d’Harmonisation\\n\"\n",
    "    result += \"\\n\".join(matieres_par_semestre[\"Période d’Harmonisation\"]) + \"\\n\"\n",
    "\n",
    "# Ajouter les semestres dans l'ordre\n",
    "for semestre, matieres in matieres_par_semestre.items():\n",
    "    if semestre != \"Période d’Harmonisation\":\n",
    "        result += f\"\\n{semestre}\\n\"\n",
    "        result += \"\\n\".join(matieres) + \"\\n\"\n",
    "\n",
    "# Afficher le résultat final\n",
    "print(result)"
   ]
  },
  {
   "cell_type": "code",
   "execution_count": 6,
   "metadata": {},
   "outputs": [
    {
     "name": "stdout",
     "output_type": "stream",
     "text": [
      "Partenariats professionnels nettoyé : Business & Decision Tunisie | Entreprises de services numériques | Banques et Assurances\n"
     ]
    },
    {
     "name": "stderr",
     "output_type": "stream",
     "text": [
      "C:\\Users\\sirine jnayeh\\AppData\\Local\\Temp\\ipykernel_16088\\986637540.py:3: DeprecationWarning: The 'text' argument to find()-type methods is deprecated. Use 'string' instead.\n",
      "  partenariats_section = soup.find('h3', text=lambda x: x and 'partenariats professionnels' in x.lower())\n"
     ]
    }
   ],
   "source": [
    "# Extraire la section \"Partenariats professionnels\"\n",
    "partenariats = \"\"\n",
    "partenariats_section = soup.find('h3', text=lambda x: x and 'partenariats professionnels' in x.lower())\n",
    "\n",
    "if partenariats_section:\n",
    "    partenariats_content = partenariats_section.find_next('div', class_='elementor-widget-container')\n",
    "    if partenariats_content:\n",
    "        partenariats_list = partenariats_content.find_all('p')\n",
    "        partenariats = \"\\n\".join([\n",
    "            item.get_text().strip().replace('>', '').strip() for item in partenariats_list if item.get_text().strip()\n",
    "        ])\n",
    "        # Ajout d'un nettoyage final pour éliminer caractères indésirables\n",
    "        partenariats = partenariats.replace(\"\\n\", \" | \")  # Remplace les retours à la ligne par un séparateur\n",
    "    else:\n",
    "        partenariats = \"Non trouvé\"\n",
    "else:\n",
    "    partenariats = \"Non trouvé\"\n",
    "\n",
    "print(f\"Partenariats professionnels nettoyé : {partenariats}\")"
   ]
  },
  {
   "cell_type": "code",
   "execution_count": 2,
   "metadata": {},
   "outputs": [
    {
     "ename": "NameError",
     "evalue": "name 'objectifs' is not defined",
     "output_type": "error",
     "traceback": [
      "\u001b[1;31m---------------------------------------------------------------------------\u001b[0m",
      "\u001b[1;31mNameError\u001b[0m                                 Traceback (most recent call last)",
      "Cell \u001b[1;32mIn[2], line 2\u001b[0m\n\u001b[0;32m      1\u001b[0m data \u001b[38;5;241m=\u001b[39m {\n\u001b[1;32m----> 2\u001b[0m     \u001b[38;5;124m'\u001b[39m\u001b[38;5;124mObjectifs\u001b[39m\u001b[38;5;124m'\u001b[39m: objectifs,\n\u001b[0;32m      3\u001b[0m     \u001b[38;5;124m'\u001b[39m\u001b[38;5;124mContenu\u001b[39m\u001b[38;5;124m'\u001b[39m: contenu,\n\u001b[0;32m      4\u001b[0m     \u001b[38;5;124m'\u001b[39m\u001b[38;5;124mCompétences\u001b[39m\u001b[38;5;124m'\u001b[39m: competences,\n\u001b[0;32m      5\u001b[0m     \u001b[38;5;124m'\u001b[39m\u001b[38;5;124mMétiers\u001b[39m\u001b[38;5;124m'\u001b[39m: metiers,\n\u001b[0;32m      6\u001b[0m     \u001b[38;5;124m'\u001b[39m\u001b[38;5;124mSecteurs d’activité\u001b[39m\u001b[38;5;124m'\u001b[39m: secteurs,\n\u001b[0;32m      7\u001b[0m     \u001b[38;5;124m'\u001b[39m\u001b[38;5;124mPartenariats professionnels\u001b[39m\u001b[38;5;124m'\u001b[39m: \u001b[38;5;28mstr\u001b[39m(partenariats)\n\u001b[0;32m      8\u001b[0m }\n\u001b[0;32m     10\u001b[0m \u001b[38;5;28;01mfor\u001b[39;00m semestre, matieres \u001b[38;5;129;01min\u001b[39;00m matieres_par_semestre\u001b[38;5;241m.\u001b[39mitems():\n\u001b[0;32m     11\u001b[0m     data[semestre] \u001b[38;5;241m=\u001b[39m \u001b[38;5;124m\"\u001b[39m\u001b[38;5;130;01m\\n\u001b[39;00m\u001b[38;5;124m\"\u001b[39m\u001b[38;5;241m.\u001b[39mjoin(matieres)\n",
      "\u001b[1;31mNameError\u001b[0m: name 'objectifs' is not defined"
     ]
    }
   ],
   "source": [
    "data = {\n",
    "    'Objectifs': objectifs,\n",
    "    'Contenu': contenu,\n",
    "    'Compétences': competences,\n",
    "    'Métiers': metiers,\n",
    "    'Secteurs d’activité': secteurs,\n",
    "    'Partenariats professionnels': str(partenariats)\n",
    "}\n",
    "\n",
    "for semestre, matieres in matieres_par_semestre.items():\n",
    "    data[semestre] = \"\\n\".join(matieres)\n",
    "# Écrire dans un fichier CSV\n",
    "with open('./masters.csv', 'w', newline='', encoding='utf-8') as csvfile:\n",
    "    writer = csv.DictWriter(csvfile, fieldnames=data.keys())\n",
    "    writer.writeheader()  # Écrire les en-têtes\n",
    "    writer.writerow(data)  # Écrire les données sur une ligne"
   ]
  }
 ],
 "metadata": {
  "kernelspec": {
   "display_name": "base",
   "language": "python",
   "name": "python3"
  },
  "language_info": {
   "codemirror_mode": {
    "name": "ipython",
    "version": 3
   },
   "file_extension": ".py",
   "mimetype": "text/x-python",
   "name": "python",
   "nbconvert_exporter": "python",
   "pygments_lexer": "ipython3",
   "version": "3.12.4"
  }
 },
 "nbformat": 4,
 "nbformat_minor": 2
}
