{
 "cells": [
  {
   "cell_type": "code",
   "execution_count": 14,
   "metadata": {},
   "outputs": [],
   "source": [
    "from bs4 import BeautifulSoup\n",
    "import requests\n",
    "import csv \n",
    "import os"
   ]
  },
  {
   "cell_type": "code",
   "execution_count": 15,
   "metadata": {},
   "outputs": [],
   "source": [
    "def get_page_contents(url):\n",
    "    headers = {\n",
    "        'User-Agent': 'Mozilla/5.0 (Windows NT 10.0; Win64; x64) AppleWebKit/537.36 (KHTML, like Gecko) Chrome/107.0.0.0 Safari/537.36'\n",
    "    }\n",
    "\n",
    "    page = requests.get(url, headers=headers)\n",
    "\n",
    "    if page.status_code == 200:\n",
    "        return page.text\n",
    "\n",
    "    return None"
   ]
  },
  {
   "cell_type": "code",
   "execution_count": 16,
   "metadata": {},
   "outputs": [],
   "source": [
    "def get_original_text(text):\n",
    "    if(text=='Objective'):\n",
    "        return 'Objectifs'\n",
    "    elif(text=='Skills'):\n",
    "        return 'Compétences'\n",
    "    elif(text=='Jobs / Careers'):\n",
    "        return 'Métiers'\n",
    "    elif(text=='Sector of activity'):\n",
    "        return 'Secteurs d’activité'\n",
    "    elif(text=='Professional partnership'):\n",
    "        return 'Partenariats professionnels'"
   ]
  },
  {
   "cell_type": "code",
   "execution_count": null,
   "metadata": {},
   "outputs": [],
   "source": [
    "def get_semester(text):\n",
    "    if(text=='Semester 1'):\n",
    "        return 'Semestre 1' \n",
    "    elif(text=='Semester 2'):\n",
    "        return 'Semestre 2'\n",
    "    elif(text=='Semester 3'):\n",
    "        return 'Semestre 3'\n",
    "    elif(text=='Semester 4'):\n",
    "        return 'Semestre 4'\n",
    "    else:\n",
    "        return text"
   ]
  },
  {
   "cell_type": "code",
   "execution_count": 24,
   "metadata": {},
   "outputs": [],
   "source": [
    "def get_masters_MDSI(page_contents):\n",
    "    soup = BeautifulSoup(page_contents, 'html.parser')\n",
    "    structured_content = {}\n",
    "    \n",
    "    # Find the main div containing the sections\n",
    "    parcours_find_div = soup.find('div', id='elementor-tab-content-7021', class_='elementor-tab-content elementor-clearfix')\n",
    "    \n",
    "    if parcours_find_div:\n",
    "        # Extract headings and their corresponding content\n",
    "        headings = parcours_find_div.find_all('h3')\n",
    "        for heading in headings:\n",
    "            key_text = heading.get_text(strip=True)\n",
    "            values = []\n",
    "            \n",
    "            # Special case for \"Matières par semestre\"\n",
    "            if key_text == 'Subjects per semester':\n",
    "                semester_content = {}\n",
    "                # Locate each semester section\n",
    "                semesters = parcours_find_div.find_all('div', class_='elementor-accordion-item')\n",
    "                matieres_par_semestre = {}\n",
    "                for semester in semesters:\n",
    "                    # Get the semester heading (e.g., \"Semestre 1\")\n",
    "                    semester_heading = semester.find('a').get_text(strip=True)\n",
    "\n",
    "                    # Find the content inside the semester section\n",
    "                    content_div = semester.find('div', class_='elementor-tab-content elementor-clearfix')\n",
    "                    if content_div:\n",
    "                        # Extract list items\n",
    "                        semester_content_list = [\n",
    "                            li.get_text(strip=True) for li in content_div.find_all('li')\n",
    "                        ]\n",
    "                        if semester_heading and semester_content_list:\n",
    "                            matieres_par_semestre[get_semester(semester_heading)] = semester_content_list\n",
    "\n",
    "                structured_content['Matières par semestre'] = matieres_par_semestre\n",
    "            elif(key_text == 'Content'):\n",
    "                values = []\n",
    "                for sibling in heading.find_next_siblings(['ul'], limit=1):\n",
    "                    values.extend([li.get_text(strip=True) for li in sibling.find_all('li')])\n",
    "                structured_content['Contenu'] = values\n",
    "            else:\n",
    "                # For other sections like \"Objectifs,\" \"Contenu,\" etc.\n",
    "                for sibling in heading.find_next_siblings(['p', 'ul'], limit=3):  # Limit to avoid unrelated content\n",
    "                    if sibling.name == 'p':\n",
    "                        values.append(sibling.get_text(strip=True))\n",
    "                    elif sibling.name == 'ul':\n",
    "                        values.extend([li.get_text(strip=True) for li in sibling.find_all('li')])\n",
    "                structured_content[get_original_text(key_text)] = values\n",
    "    \n",
    "    return structured_content"
   ]
  },
  {
   "cell_type": "code",
   "execution_count": 25,
   "metadata": {},
   "outputs": [],
   "source": [
    "if __name__ == '__main__':\n",
    "    url = 'https://www.esb.tn/programs-3/international-classes/professional-master-of-digital-management-information-systems/'\n",
    "    page_contents = get_page_contents(url)\n",
    "    result=[]   #keep result when appending all of the programs for now we will try to use it for csv test file\n",
    "\n",
    "    if page_contents:\n",
    "        result.append(get_masters_MDSI(page_contents))\n",
    "        #print(get_masters_CCA(page_contents))\n",
    "    else:\n",
    "        print('Failed to get page contents.')"
   ]
  },
  {
   "cell_type": "code",
   "execution_count": 26,
   "metadata": {},
   "outputs": [
    {
     "name": "stdout",
     "output_type": "stream",
     "text": [
      "{'Objectifs': 'TheProfessional Master in Digital Management and Information Systemstrains specialists in information systems management and the integration of information and communication technologies, capable of supporting companies in their digital transformation processes., TheProfessional Master in Digital Management & Information Systemsis available as a double degree in International Management with IMT-BS and in Management and Business Strategy with Ascencia Business School., MANAGEMENT:Business Process Management, Change Management, Project Management, Supply Chain, etc., DIGITAL:ERP, Business Intelligence, Big Data, SAP, CRM, SOFT SKILLS:Seminars, Personal Development, Business Games, Languages, etc., PROFESSIONAL PROJECTS:Internships, work placements, integrated projects, company visits, etc.', 'Contenu': 'MANAGEMENT:Business Process Management, Change Management, Project Management, Supply Chain, etc., DIGITAL:ERP, Business Intelligence, Big Data, SAP, CRM, SOFT SKILLS:Seminars, Personal Development, Business Games, Languages, etc., PROFESSIONAL PROJECTS:Internships, work placements, integrated projects, company visits, etc.', 'Compétences': 'Anticipate and manage changes linked to digital transformation., Identify the appropriate strategic choices for managing and optimizing corporate information systems., Integrate the management of information systems and IT technology tools into the company’s overall strategy., Maintain a technology watch and assess the relevance of emerging technologies to a company’s business development., Manage technology-intensive projects and ensure the economic, social and societal performance of companies.', 'Métiers': 'Digital Transformation Manager:Chief Digital Officer, Digital Strategy Manager, Digital Project Manager:Digital Account Executive, IT Project Manager, Product/Service Manager, Digital Asset Manager., Information Systems Consultant:ERP Consultant, IT Consultant, CRM Consultant', 'Secteurs d’activité': 'Digital services companies, Consulting firms, Banking & Insurance, BTP, Information & communication technologies', 'Partenariats professionnels': '> Digital services companies, > Telecommunications operators, > Banking & Insurance', 'Semestre 1': 'Information systems architecture, Information systems management, Digital technology & business value, Strategic management & digital transition, e-Business, English, Professional efficiency & personal development, Business seminars I, Integrated project II', 'Semestre 2': 'Project management & change management, Technological intelligence, Digital transformation & supply chain, Web marketing, Business process management, Data analysis & decision making, Machine learning tools, Integrated project II, English II, Personal & relational skills, Business seminarsII', 'Semestre 3': 'Business intelligence & Big Data, IS solution: ERP, CRM & BI, IS governance & audit, Big Data & governance of personal data, Team management & digital transition, Intercultural management, Analysis & design of IS, Data warehouse modeling, English III, Preparation & integration into professional life, Business seminars III, Integrated project III', 'Semestre 4': 'Internship (project graduation)'}\n"
     ]
    }
   ],
   "source": [
    "field_names = [\n",
    "    'Objectifs', 'Contenu', 'Compétences', 'Métiers', 'Secteurs d’activité', 'Partenariats professionnels',\n",
    "    'Semestre 1', 'Semestre 2', 'Semestre 3', 'Semestre 4'\n",
    "]\n",
    "\n",
    "# Flatten the data\n",
    "flattened_result = {}\n",
    "for dict in result:\n",
    "    for key, value in dict.items():\n",
    "        if key == 'Matières par semestre':\n",
    "            # Extract each semester as a separate field\n",
    "            for semester, courses in value.items():\n",
    "                flattened_result[semester] = ', '.join(courses)\n",
    "        elif isinstance(value, list):\n",
    "            # Join list items with commas\n",
    "            flattened_result[key] = ', '.join(value)\n",
    "        else:\n",
    "            flattened_result[key] = value\n",
    "flattened_result.pop('Harmonization period')\n",
    "#pop key none in flattened_result\n",
    "flattened_result.pop(None)\n",
    "print(flattened_result)\n",
    "file_exists = os.path.exists('./masters.csv')\n",
    "with open('./masters.csv', 'a', newline='', encoding='utf-8') as csvfile:\n",
    "    writer = csv.DictWriter(csvfile, fieldnames=field_names)\n",
    "    \n",
    "    if not file_exists or csvfile.tell() == 0:\n",
    "        writer.writeheader()\n",
    "    \n",
    "    # Write the flattened result as a row\n",
    "    writer.writerow(flattened_result)"
   ]
  },
  {
   "cell_type": "code",
   "execution_count": null,
   "metadata": {},
   "outputs": [],
   "source": []
  }
 ],
 "metadata": {
  "kernelspec": {
   "display_name": "Python 3",
   "language": "python",
   "name": "python3"
  },
  "language_info": {
   "codemirror_mode": {
    "name": "ipython",
    "version": 3
   },
   "file_extension": ".py",
   "mimetype": "text/x-python",
   "name": "python",
   "nbconvert_exporter": "python",
   "pygments_lexer": "ipython3",
   "version": "3.11.5"
  }
 },
 "nbformat": 4,
 "nbformat_minor": 2
}
