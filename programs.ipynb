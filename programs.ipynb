{
 "cells": [
  {
   "cell_type": "code",
   "execution_count": 13,
   "metadata": {},
   "outputs": [],
   "source": [
    "import os\n",
    "import csv, glob\n",
    "import json"
   ]
  },
  {
   "cell_type": "code",
   "execution_count": 14,
   "metadata": {},
   "outputs": [
    {
     "name": "stderr",
     "output_type": "stream",
     "text": [
      "<>:1: SyntaxWarning: invalid escape sequence '\\p'\n",
      "<>:2: SyntaxWarning: invalid escape sequence '\\p'\n",
      "<>:1: SyntaxWarning: invalid escape sequence '\\p'\n",
      "<>:2: SyntaxWarning: invalid escape sequence '\\p'\n",
      "C:\\Users\\sirine jnayeh\\AppData\\Local\\Temp\\ipykernel_5348\\2429320247.py:1: SyntaxWarning: invalid escape sequence '\\p'\n",
      "  masters_file = 'C:\\projects\\Skill-Recommender\\Skill_Recommender\\masters\\masters.json'\n",
      "C:\\Users\\sirine jnayeh\\AppData\\Local\\Temp\\ipykernel_5348\\2429320247.py:2: SyntaxWarning: invalid escape sequence '\\p'\n",
      "  licence_file = 'C:\\projects\\Skill-Recommender\\Skill_Recommender\\licence\\licence.json'\n"
     ]
    }
   ],
   "source": [
    "masters_file = 'C:\\projects\\Skill-Recommender\\Skill_Recommender\\masters\\masters.json'\n",
    "licence_file = 'C:\\projects\\Skill-Recommender\\Skill_Recommender\\licence\\licence.json'\n",
    "output_file_csv = 'outputfile.csv'\n",
    "output_file_json = './outputfile.json'"
   ]
  },
  {
   "cell_type": "code",
   "execution_count": 15,
   "metadata": {},
   "outputs": [
    {
     "data": {
      "text/plain": [
       "'# Check if the input files exist\\nif not os.path.exists(masters_file):\\n    raise FileNotFoundError(f\"The file {masters_file} does not exist.\")\\nif not os.path.exists(licence_file):\\n    raise FileNotFoundError(f\"The file {licence_file} does not exist.\")\\n\\n# Open the output file in write mode\\nwith open(output_file_csv, mode=\\'w\\', newline=\\'\\', encoding=\\'utf-8-sig\\') as output:\\n    writer = csv.writer(output)\\n    \\n    # Process the masters file\\n    with open(masters_file, mode=\\'r\\', encoding=\\'utf-8-sig\\') as masters:\\n        reader = csv.reader(masters)\\n        for row in reader:\\n            writer.writerow(row)\\n    \\n    # Process the licence file\\n    with open(licence_file, mode=\\'r\\', encoding=\\'utf-8-sig\\') as licence:\\n        reader = csv.reader(licence)\\n        next(reader, None)  # Skip the header row of licence.csv\\n        for row in reader:\\n            writer.writerow(row)'"
      ]
     },
     "execution_count": 15,
     "metadata": {},
     "output_type": "execute_result"
    }
   ],
   "source": [
    "'''# Check if the input files exist\n",
    "if not os.path.exists(masters_file):\n",
    "    raise FileNotFoundError(f\"The file {masters_file} does not exist.\")\n",
    "if not os.path.exists(licence_file):\n",
    "    raise FileNotFoundError(f\"The file {licence_file} does not exist.\")\n",
    "\n",
    "# Open the output file in write mode\n",
    "with open(output_file_csv, mode='w', newline='', encoding='utf-8-sig') as output:\n",
    "    writer = csv.writer(output)\n",
    "    \n",
    "    # Process the masters file\n",
    "    with open(masters_file, mode='r', encoding='utf-8-sig') as masters:\n",
    "        reader = csv.reader(masters)\n",
    "        for row in reader:\n",
    "            writer.writerow(row)\n",
    "    \n",
    "    # Process the licence file\n",
    "    with open(licence_file, mode='r', encoding='utf-8-sig') as licence:\n",
    "        reader = csv.reader(licence)\n",
    "        next(reader, None)  # Skip the header row of licence.csv\n",
    "        for row in reader:\n",
    "            writer.writerow(row)'''\n"
   ]
  },
  {
   "cell_type": "code",
   "execution_count": 16,
   "metadata": {},
   "outputs": [],
   "source": [
    "#write in output.json file [{licence:licence.json},{masters:masters.json}]\n",
    "# Check if the file exists\n",
    "file_exists = os.path.isfile(output_file_json)\n",
    "\n",
    "# Read existing data if the file exists\n",
    "if file_exists:\n",
    "    with open(output_file_json, 'r', encoding='utf-8-sig') as jsonfile:\n",
    "        prev_data = json.load(jsonfile)\n",
    "else:\n",
    "    prev_data = []\n",
    "\n",
    "with open(output_file_json, mode='a', encoding='utf-8-sig') as output:\n",
    "    json.dump({\"licence\": json.load(open(licence_file, mode='r', encoding='utf-8')), \"masters\": json.load(open(masters_file, mode='r', encoding='utf-8'))}, output,ensure_ascii=False, indent=4)\n"
   ]
  }
 ],
 "metadata": {
  "kernelspec": {
   "display_name": "base",
   "language": "python",
   "name": "python3"
  },
  "language_info": {
   "codemirror_mode": {
    "name": "ipython",
    "version": 3
   },
   "file_extension": ".py",
   "mimetype": "text/x-python",
   "name": "python",
   "nbconvert_exporter": "python",
   "pygments_lexer": "ipython3",
   "version": "3.12.4"
  }
 },
 "nbformat": 4,
 "nbformat_minor": 2
}
