{
 "cells": [
  {
   "cell_type": "code",
   "execution_count": 1,
   "metadata": {},
   "outputs": [],
   "source": [
    "import os\n",
    "import csv, glob"
   ]
  },
  {
   "cell_type": "code",
   "execution_count": 7,
   "metadata": {},
   "outputs": [
    {
     "name": "stderr",
     "output_type": "stream",
     "text": [
      "<>:2: SyntaxWarning: invalid escape sequence '\\p'\n",
      "<>:3: SyntaxWarning: invalid escape sequence '\\p'\n",
      "<>:2: SyntaxWarning: invalid escape sequence '\\p'\n",
      "<>:3: SyntaxWarning: invalid escape sequence '\\p'\n",
      "C:\\Users\\sirine jnayeh\\AppData\\Local\\Temp\\ipykernel_23132\\3282728998.py:2: SyntaxWarning: invalid escape sequence '\\p'\n",
      "  masters_file = 'C:\\projects\\Skill-Recommender\\Skill_Recommender\\masters\\masters.csv'\n",
      "C:\\Users\\sirine jnayeh\\AppData\\Local\\Temp\\ipykernel_23132\\3282728998.py:3: SyntaxWarning: invalid escape sequence '\\p'\n",
      "  licence_file = 'C:\\projects\\Skill-Recommender\\Skill_Recommender\\licence\\licence.csv'\n"
     ]
    }
   ],
   "source": [
    "# Define the file paths\n",
    "masters_file = 'C:\\projects\\Skill-Recommender\\Skill_Recommender\\masters\\masters.csv'\n",
    "licence_file = 'C:\\projects\\Skill-Recommender\\Skill_Recommender\\licence\\licence.csv'\n",
    "output_file = 'outputfile.csv'\n",
    "\n",
    "# Check if the input files exist\n",
    "if not os.path.exists(masters_file):\n",
    "    raise FileNotFoundError(f\"The file {masters_file} does not exist.\")\n",
    "if not os.path.exists(licence_file):\n",
    "    raise FileNotFoundError(f\"The file {licence_file} does not exist.\")\n",
    "\n",
    "# Open the output file in write mode\n",
    "with open(output_file, mode='w', newline='', encoding='utf-8-sig') as output:\n",
    "    writer = csv.writer(output)\n",
    "    \n",
    "    # Process the masters file\n",
    "    with open(masters_file, mode='r', encoding='utf-8-sig') as masters:\n",
    "        reader = csv.reader(masters)\n",
    "        for row in reader:\n",
    "            writer.writerow(row)\n",
    "    \n",
    "    # Process the licence file\n",
    "    with open(licence_file, mode='r', encoding='utf-8-sig') as licence:\n",
    "        reader = csv.reader(licence)\n",
    "        next(reader, None)  # Skip the header row of licence.csv\n",
    "        for row in reader:\n",
    "            writer.writerow(row)\n"
   ]
  }
 ],
 "metadata": {
  "kernelspec": {
   "display_name": "base",
   "language": "python",
   "name": "python3"
  },
  "language_info": {
   "codemirror_mode": {
    "name": "ipython",
    "version": 3
   },
   "file_extension": ".py",
   "mimetype": "text/x-python",
   "name": "python",
   "nbconvert_exporter": "python",
   "pygments_lexer": "ipython3",
   "version": "3.12.4"
  }
 },
 "nbformat": 4,
 "nbformat_minor": 2
}
